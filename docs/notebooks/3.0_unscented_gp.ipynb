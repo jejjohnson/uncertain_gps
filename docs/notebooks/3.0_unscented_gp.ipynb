{
 "cells": [
  {
   "cell_type": "markdown",
   "metadata": {},
   "source": [
    "# GP - Unscented Transformation\n",
    "This notebook, I will go over how we can implement the Gaussian process (GP) regression algorithm using Jax. This isn't a new algorithm or anything but I would like to get accustomed to using Jax because it will be useful later when I implement the GPs to handle uncertain inputs.\n",
    "\n",
    "**Inspirations**\n",
    "\n",
    "* [SSMToyBox](https://github.com/jacobnzw/SSMToybox/blob/master/ssmtoybox/mtran.py#L62)\n",
    "* [GPyTorch PILCO](https://github.com/jaztsong/PILCO-gpytorch/blob/master/pilco/models/mgpr.py#L282)\n",
    "* [PyRoboLearn](https://github.com/robotlearn/pyrobolearn/blob/master/pyrobolearn/filters/unscented_kalman_filter.py)\n",
    "* FilterPy - [UKF](https://github.com/rlabbe/filterpy/blob/master/filterpy/kalman/UKF.py) | [Unscented Transform](https://github.com/rlabbe/filterpy/blob/master/filterpy/kalman/unscented_transform.py)"
   ]
  },
  {
   "cell_type": "markdown",
   "metadata": {},
   "source": [
    "## Imports"
   ]
  },
  {
   "cell_type": "code",
   "execution_count": 1,
   "metadata": {},
   "outputs": [],
   "source": [
    "import sys\n",
    "from pyprojroot import here\n",
    "sys.path.append(str(here()))\n",
    "import pathlib\n",
    "PATH = pathlib.Path(here())\n",
    "\n",
    "import functools\n",
    "from typing import Callable, Dict, Tuple\n",
    "import argparse\n",
    "import jax\n",
    "import jax.numpy as jnp\n",
    "import matplotlib.pyplot as plt\n",
    "import seaborn as sns\n",
    "\n",
    "sns.reset_defaults()\n",
    "# sns.set_style('whitegrid')\n",
    "# sns.set_context('talk')\n",
    "sns.set_context(context=\"talk\", font_scale=0.7)\n",
    "\n",
    "import numpy as onp\n",
    "import numpyro\n",
    "import numpyro.distributions as dist\n",
    "import tqdm\n",
    "from jax.experimental import optimizers\n",
    "\n",
    "from src.models.jaxgp.data import get_data\n",
    "from src.models.jaxgp.exact import predictive_mean, predictive_variance\n",
    "from src.models.jaxgp.kernels import gram, rbf_kernel, ard_kernel\n",
    "from src.models.jaxgp.loss import marginal_likelihood\n",
    "from src.models.jaxgp.mean import zero_mean\n",
    "from src.models.jaxgp.utils import cholesky_factorization, get_factorizations, saturate\n",
    "\n",
    "# LOGGING SETTINGS\n",
    "import sys\n",
    "import logging\n",
    "logging.basicConfig(\n",
    "    level=logging.INFO, \n",
    "    stream=sys.stdout,\n",
    "    format='%(asctime)s:%(levelname)s:%(message)s'\n",
    ")\n",
    "logger = logging.getLogger()\n",
    "\n",
    "%load_ext autoreload\n",
    "%autoreload 2"
   ]
  },
  {
   "cell_type": "markdown",
   "metadata": {},
   "source": [
    "## Data"
   ]
  },
  {
   "cell_type": "code",
   "execution_count": 2,
   "metadata": {},
   "outputs": [],
   "source": [
    "from dataclasses import dataclass\n",
    "\n",
    "@dataclass\n",
    "class args:\n",
    "    num_train = 30\n",
    "    num_test = 1_000\n",
    "    smoke_test = False\n",
    "    input_noise = 0.15\n",
    "    output_noise = 0.15"
   ]
  },
  {
   "cell_type": "code",
   "execution_count": 3,
   "metadata": {},
   "outputs": [],
   "source": [
    "# sigma_inputs = 0.15\n",
    "input_cov = jnp.array([args.input_noise]).reshape(-1, 1)\n",
    "X, y, Xtest, ytest = get_data(\n",
    "    N=args.num_train,\n",
    "    input_noise=args.input_noise,\n",
    "    output_noise=args.output_noise,\n",
    "    N_test=args.num_test,\n",
    ")"
   ]
  },
  {
   "cell_type": "markdown",
   "metadata": {},
   "source": [
    "## Model"
   ]
  },
  {
   "cell_type": "code",
   "execution_count": 4,
   "metadata": {},
   "outputs": [],
   "source": [
    "# PRIOR FUNCTIONS (mean, covariance)\n",
    "mu_f = zero_mean\n",
    "cov_f = functools.partial(gram, ard_kernel)\n",
    "gp_priors = (mu_f, cov_f)\n",
    "\n",
    "# Kernel, Likelihood parameters\n",
    "params = {\n",
    "    # \"gamma\": 2.0,\n",
    "    \"length_scale\": 1.0,\n",
    "    \"var_f\": 1.0,\n",
    "    \"likelihood_noise\": 1.0,\n",
    "}\n",
    "# saturate parameters with likelihoods\n",
    "params = saturate(params)\n",
    "\n",
    "# LOSS FUNCTION\n",
    "mll_loss = jax.jit(functools.partial(marginal_likelihood, gp_priors))\n",
    "\n",
    "# GRADIENT LOSS FUNCTION\n",
    "dloss = jax.jit(jax.grad(mll_loss))"
   ]
  },
  {
   "cell_type": "markdown",
   "metadata": {},
   "source": [
    "## Optimizer"
   ]
  },
  {
   "cell_type": "code",
   "execution_count": 5,
   "metadata": {},
   "outputs": [],
   "source": [
    "# STEP FUNCTION\n",
    "@jax.jit\n",
    "def step(params, X, y, opt_state):\n",
    "    # calculate loss\n",
    "    loss = mll_loss(params, X, y)\n",
    "\n",
    "    # calculate gradient of loss\n",
    "    grads = dloss(params, X, y)\n",
    "\n",
    "    # update optimizer state\n",
    "    opt_state = opt_update(0, grads, opt_state)\n",
    "\n",
    "    # update params\n",
    "    params = get_params(opt_state)\n",
    "\n",
    "    return params, opt_state, loss"
   ]
  },
  {
   "cell_type": "markdown",
   "metadata": {},
   "source": [
    "## Training"
   ]
  },
  {
   "cell_type": "code",
   "execution_count": 6,
   "metadata": {},
   "outputs": [
    {
     "name": "stderr",
     "output_type": "stream",
     "text": [
      "100%|██████████| 500/500 [00:06<00:00, 71.46it/s, length_scale=1.20, likelihood_noise=0.16, var_f=1.07, Loss=21.34]\n"
     ]
    }
   ],
   "source": [
    "# TRAINING PARARMETERS\n",
    "n_epochs = 500 if not args.smoke_test else 2\n",
    "learning_rate = 0.01\n",
    "losses = list()\n",
    "\n",
    "# initialize optimizer\n",
    "opt_init, opt_update, get_params = optimizers.rmsprop(step_size=learning_rate)\n",
    "\n",
    "# initialize parameters\n",
    "opt_state = opt_init(params)\n",
    "\n",
    "# get initial parameters\n",
    "params = get_params(opt_state)\n",
    "\n",
    "postfix = {}\n",
    "\n",
    "with tqdm.trange(n_epochs) as bar:\n",
    "\n",
    "    for i in bar:\n",
    "        # 1 step - optimize function\n",
    "        params, opt_state, value = step(params, X, y, opt_state)\n",
    "\n",
    "        # update params\n",
    "        postfix = {}\n",
    "        for ikey in params.keys():\n",
    "            postfix[ikey] = f\"{jax.nn.softplus(params[ikey]):.2f}\"\n",
    "\n",
    "        # save loss values\n",
    "        losses.append(value.mean())\n",
    "\n",
    "        # update progress bar\n",
    "        postfix[\"Loss\"] = f\"{onp.array(losses[-1]):.2f}\"\n",
    "        bar.set_postfix(postfix)\n",
    "        # saturate params\n",
    "        params = saturate(params)"
   ]
  },
  {
   "cell_type": "markdown",
   "metadata": {},
   "source": [
    "## Predictions"
   ]
  },
  {
   "cell_type": "markdown",
   "metadata": {},
   "source": [
    "### Standard Predictions"
   ]
  },
  {
   "cell_type": "code",
   "execution_count": 7,
   "metadata": {},
   "outputs": [],
   "source": [
    "# Posterior Predictions\n",
    "mu_y = predictive_mean(params, gp_priors, X, y, Xtest)\n",
    "var_y = predictive_variance(params, gp_priors, X, y, Xtest, True, False)\n",
    "\n",
    "# Uncertainty\n",
    "uncertainty = 1.96 * jnp.sqrt(var_y.squeeze())"
   ]
  },
  {
   "cell_type": "code",
   "execution_count": 8,
   "metadata": {},
   "outputs": [
    {
     "data": {
      "image/png": "[encoded data removed]",
      "text/plain": [
       "<Figure size 640x480 with 1 Axes>"
      ]
     },
     "metadata": {},
     "output_type": "display_data"
    }
   ],
   "source": [
    "logger.setLevel(logging.INFO)\n",
    "\n",
    "fig, ax = plt.subplots()\n",
    "\n",
    "ax.scatter(X, y, c=\"red\", label=\"Training Data\")\n",
    "ax.plot(\n",
    "    Xtest.squeeze(),\n",
    "    mu_y.squeeze(),\n",
    "    label=r\"Predictive Mean\",\n",
    "    color=\"black\",\n",
    "    linewidth=3,\n",
    ")\n",
    "ax.fill_between(\n",
    "    Xtest.squeeze(),\n",
    "    mu_y.squeeze() + uncertainty,\n",
    "    mu_y.squeeze() - uncertainty,\n",
    "    alpha=0.3,\n",
    "    color=\"darkorange\",\n",
    "    label=f\"Predictive Std (95% Confidence)\",\n",
    ")\n",
    "ax.set_ylim([-3.5, 3.5])\n",
    "ax.legend(fontsize=12)\n",
    "\n",
    "plt.tight_layout()\n",
    "fig.savefig(PATH.joinpath(\"figures/jaxgp/examples/mc/1d_gp.png\"))\n",
    "plt.show()"
   ]
  },
  {
   "cell_type": "markdown",
   "metadata": {},
   "source": [
    "## Uncsented Transformation"
   ]
  },
  {
   "cell_type": "code",
   "execution_count": 94,
   "metadata": {},
   "outputs": [],
   "source": [
    "from typing import Optional\n",
    "def unscented_sigma_points(\n",
    "    n_features: int, kappa: Optional[float]=None, alpha: float=1.0\n",
    "):\n",
    "    \"\"\"Unscented sigma points\n",
    "    \n",
    "    Parameters\n",
    "    ----------\n",
    "    n_features : int,\n",
    "        dimenion of the input random variables\n",
    "    \n",
    "    kappa : float, Optional\n",
    "        scaling parameter\n",
    "    \n",
    "    alpha : float, Optional, default=1.0\n",
    "        parameter affecting the covariance\n",
    "    \n",
    "    Returns\n",
    "    -------\n",
    "    sigma_points : np.ndarray, (n_features, n_sigma_points)\n",
    "        Unscented sigma points\n",
    "    \"\"\"\n",
    "    kappa = jnp.max([3.0 - n_features, 0.0]) if kappa is None else kappa\n",
    "    \n",
    "    lam = alpha ** 2 * (n_features + kappa) - n_features\n",
    "    c = jnp.sqrt(n_features + lam)\n",
    "    \n",
    "    sigma_points = jnp.hstack((\n",
    "        jnp.zeros((n_features, 1)), \n",
    "        c * jnp.eye(n_features),\n",
    "        - c * jnp.eye(n_features)\n",
    "    ))\n",
    "    return sigma_points\n",
    "\n",
    "def unscented_weights(\n",
    "    n_features: int,\n",
    "    kappa: Optional[float]=None, \n",
    "    alpha: float=1.0,\n",
    "    beta: float=2.0,\n",
    "):\n",
    "    \"\"\"Unscented transform weights.\n",
    "    \n",
    "    Parameters\n",
    "    ----------\n",
    "    n_features : int\n",
    "        Dimension of the input random variable.\n",
    "    kappa : float, optional\n",
    "        Scaling parameter.\n",
    "    alpha : float, optional\n",
    "        Parameter affecting covariance.\n",
    "        Controls the spread of points (1e-3, 1)\n",
    "    beta : float, optional\n",
    "        Parameter affecting covariance.\n",
    "        Used to encode additional (high-order) knowledge about the \n",
    "        underlying Gaussian representation\n",
    "    Returns\n",
    "    -------\n",
    "    w : (num_points, ) ndarray\n",
    "        Unscented weights for the transformed mean.\n",
    "    wc : (num_points, ) ndarray\n",
    "        Unscented weights for the transformed covariance.\n",
    "    \"\"\"\n",
    "    kappa = jnp.max([3.0 - n_features, 0.0]) if kappa is None else kappa\n",
    "    lam = alpha ** 2 * (n_features + kappa) - n_features\n",
    "    wm = 1.0 / (2.0 * (n_features + lam)) * jnp.ones(2 * n_features)\n",
    "    wc = wm.copy()\n",
    "    wm0 = lam / (n_features + lam)\n",
    "    wc0 = wm0 + (1 - alpha ** 2 + beta)\n",
    "    return jnp.hstack((wm0, wm)), jnp.hstack((wc0, wc))"
   ]
  },
  {
   "cell_type": "code",
   "execution_count": 137,
   "metadata": {},
   "outputs": [
    {
     "name": "stdout",
     "output_type": "stream",
     "text": [
      "2020-05-04 13:00:00,582:DEBUG:Wm, Wc: (3, 3), (3, 3)\n",
      "2020-05-04 13:00:00,587:DEBUG:Sigma Points: (1, 3)\n",
      "2020-05-04 13:00:00,588:DEBUG:Xtest: (1000, 1)\n",
      "2020-05-04 13:00:00,593:DEBUG:x_: (1000, 3)\n",
      "2020-05-04 13:00:00,597:DEBUG:Compiling <unnamed function> for args (ShapedArray(float32[1000,3]),).\n",
      "2020-05-04 13:00:00,658:DEBUG:outputs: (1000, 3)\n",
      "2020-05-04 13:00:00,660:DEBUG:outputs (mean): (1000,)\n",
      "2020-05-04 13:00:00,662:DEBUG:dfx: (1000, 3)\n",
      "2020-05-04 13:00:00,663:DEBUG:cov_f: (1000, 1000)\n"
     ]
    }
   ],
   "source": [
    "X.shape, input_cov.shape\n",
    "logger.setLevel(logging.DEBUG)\n",
    "n_features = X.shape[1]\n",
    "n_mc_samples = 1000\n",
    "\n",
    "# sigma point transform parameters\n",
    "alpha = 1.\n",
    "beta = 20.0\n",
    "kappa = 1.\n",
    "\n",
    "\n",
    "Wm, Wc = unscented_weights(n_features, kappa=kappa, alpha=alpha)\n",
    "Wm = jnp.diag(Wm)\n",
    "Wc = jnp.diag(Wc)\n",
    "logging.debug(f\"Wm, Wc: {Wm.shape}, {Wc.shape}\")\n",
    "# get unit sigma points\n",
    "key = jax.random.PRNGKey(0)\n",
    "unit_sigma_points = unscented_sigma_points(n_features, kappa=kappa, alpha=alpha)\n",
    "logging.debug(f\"Sigma Points: {unit_sigma_points.shape}\")\n",
    "logging.debug(f\"Xtest: {Xtest.shape}\")\n",
    "# form sigma-points from unit sigma-points\n",
    "x_ = Xtest + jnp.dot(jnp.linalg.cholesky(input_cov), unit_sigma_points)\n",
    "logging.debug(f\"x_: {x_.shape}\")\n",
    "\n",
    "# push sigma points through non-linearity\n",
    "mu_f = functools.partial(predictive_mean, params, gp_priors, X, y)\n",
    "mu_f_batch = jax.jit(jax.vmap(mu_f, in_axes=(0)))\n",
    "\n",
    "outputs = mu_f_batch(x_)\n",
    "logging.debug(f\"outputs: {outputs.shape}\")\n",
    "# output mean\n",
    "outputs_mean = jnp.mean(outputs, axis=1).T\n",
    "logging.debug(f\"outputs (mean): {outputs_mean.shape}\")\n",
    "\n",
    "# output covariance\n",
    "# logging.debug(f\"Cov: {outputs.shape}, {outputs_mean.shape}\")\n",
    "dfx = outputs - outputs_mean[:, None]\n",
    "logging.debug(f\"dfx: {dfx.shape}\")\n",
    "\n",
    "cov_f = jnp.dot(jnp.dot(dfx,Wc), dfx.T)\n",
    "logging.debug(f\"cov_f: {cov_f.shape}\")"
   ]
  },
  {
   "cell_type": "code",
   "execution_count": 138,
   "metadata": {},
   "outputs": [],
   "source": [
    "uncertainty = 1.96 * jnp.sqrt(jnp.diag(cov_f))"
   ]
  },
  {
   "cell_type": "code",
   "execution_count": 139,
   "metadata": {},
   "outputs": [
    {
     "data": {
      "image/png": "[encoded data removed]",
      "text/plain": [
       "<Figure size 640x480 with 1 Axes>"
      ]
     },
     "metadata": {},
     "output_type": "display_data"
    }
   ],
   "source": [
    "logger.setLevel(logging.INFO)\n",
    "\n",
    "fig, ax = plt.subplots()\n",
    "\n",
    "ax.scatter(X, y, c=\"red\", label=\"Training Data\")\n",
    "ax.plot(\n",
    "    Xtest.squeeze(),\n",
    "    mu_y.squeeze(),\n",
    "    label=r\"Predictive Mean\",\n",
    "    color=\"black\",\n",
    "    linewidth=3,\n",
    ")\n",
    "ax.fill_between(\n",
    "    Xtest.squeeze(),\n",
    "    mu_y.squeeze() + uncertainty,\n",
    "    mu_y.squeeze() - uncertainty,\n",
    "    alpha=0.3,\n",
    "    color=\"darkorange\",\n",
    "    label=f\"Predictive Std (95% Confidence)\",\n",
    ")\n",
    "ax.set_ylim([-3.5, 3.5])\n",
    "ax.legend(fontsize=12)\n",
    "\n",
    "plt.tight_layout()\n",
    "fig.savefig(PATH.joinpath(\"figures/jaxgp/examples/unscented/1d_gp_un.png\"))\n",
    "# fig.savefig(\"figures/jaxgp/examples/mc/1d_gp_mc.png\")\n",
    "plt.show()"
   ]
  },
  {
   "cell_type": "markdown",
   "metadata": {},
   "source": [
    "### More Points"
   ]
  },
  {
   "cell_type": "code",
   "execution_count": 78,
   "metadata": {},
   "outputs": [],
   "source": [
    "from typing import Optional\n",
    "def unscented_weights(\n",
    "    n_features: int,\n",
    "    kappa: Optional[float]=None, \n",
    "    alpha: float=1.0,\n",
    "    beta: float=2.0,\n",
    "):\n",
    "    \"\"\"Unscented transform weights.\n",
    "    \n",
    "    Parameters\n",
    "    ----------\n",
    "    n_features : int\n",
    "        Dimension of the input random variable.\n",
    "    kappa : float, optional\n",
    "        Scaling parameter.\n",
    "    alpha : float, optional\n",
    "        Parameter affecting covariance.\n",
    "        Controls the spread of points (1e-3, 1)\n",
    "    beta : float, optional\n",
    "        Parameter affecting covariance.\n",
    "        Used to encode additional (high-order) knowledge about the \n",
    "        underlying Gaussian representation\n",
    "    Returns\n",
    "    -------\n",
    "    w : (num_points, ) ndarray\n",
    "        Unscented weights for the transformed mean.\n",
    "    wc : (num_points, ) ndarray\n",
    "        Unscented weights for the transformed covariance.\n",
    "    \"\"\"\n",
    "    tau = alpha ** 2 * (n_features + kappa) - n_features\n",
    "    weight_mean_0 = tau / (n_features + tau)\n",
    "    weight_cov_0 = tau / (n_features + tau) + (1 - alpha ** 2 + beta)\n",
    "    weight = 1. / ( 2. * (n_features + tau) )\n",
    "    gamma = jnp.sqrt(n_features + tau)\n",
    "\n",
    "    return gamma, weight, weight_mean_0, weight_cov_0"
   ]
  },
  {
   "cell_type": "code",
   "execution_count": 90,
   "metadata": {},
   "outputs": [],
   "source": [
    "def generate_sigma_points(\n",
    "    x_mu, x_cov, gamma\n",
    "):\n",
    "    \"\"\"Unscented sigma points\n",
    "    \n",
    "    Parameters\n",
    "    ----------\n",
    "    n_features : int,\n",
    "        dimenion of the input random variables\n",
    "    \n",
    "    kappa : float, Optional\n",
    "        scaling parameter\n",
    "    \n",
    "    alpha : float, Optional, default=1.0\n",
    "        parameter affecting the covariance\n",
    "    \n",
    "    Returns\n",
    "    -------\n",
    "    sigma_points : np.ndarray, (n_features, n_sigma_points)\n",
    "        Unscented sigma points\n",
    "    \"\"\"\n",
    "    term = gamma * np.sqrt(x_cov.T)\n",
    "    ksigma_points = np.vstack((x_mu, x_mu + term, x_mu - term))\n",
    "    return sigma_points"
   ]
  },
  {
   "cell_type": "code",
   "execution_count": 91,
   "metadata": {},
   "outputs": [
    {
     "data": {
      "text/plain": [
       "(1, 3)"
      ]
     },
     "execution_count": 91,
     "metadata": {},
     "output_type": "execute_result"
    }
   ],
   "source": [
    "gamma, weight, weight_mean_0, weight_cov_0 = unscented_weights(\n",
    "    n_features=X[0].shape[0],\n",
    "    kappa=0, alpha=1., beta=2.\n",
    "    \n",
    ")\n",
    "\n",
    "sigma_points = generate_sigma_points(X[0], input_cov, gamma)\n",
    "sigma_points.shape"
   ]
  },
  {
   "cell_type": "code",
   "execution_count": null,
   "metadata": {},
   "outputs": [],
   "source": []
  }
 ],
 "metadata": {
  "kernelspec": {
   "display_name": "Python [conda env:.conda-egp]",
   "language": "python",
   "name": "conda-env-.conda-egp-py"
  },
  "language_info": {
   "codemirror_mode": {
    "name": "ipython",
    "version": 3
   },
   "file_extension": ".py",
   "mimetype": "text/x-python",
   "name": "python",
   "nbconvert_exporter": "python",
   "pygments_lexer": "ipython3",
   "version": "3.8.2"
  }
 },
 "nbformat": 4,
 "nbformat_minor": 4
}
