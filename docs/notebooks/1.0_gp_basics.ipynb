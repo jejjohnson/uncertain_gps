{
 "cells": [
  {
   "cell_type": "markdown",
   "metadata": {},
   "source": [
    "# Gaussian Process Regression\n",
    "\n",
    "This notebook, I will go over how we can implement the Gaussian process (GP) regression algorithm using Jax. This isn't a new algorithm or anything but I would like to get accustomed to using Jax because it will be useful later when I implement the GPs to handle uncertain inputs.\n",
    "\n",
    "**Inspirations**\n",
    "\n",
    "* [Github Code](https://github.com/lucasrm25/Structured-Learning-for-Robot-Control/blob/master/GP/jaxGP.py) - [Lucas](https://www.linkedin.com/in/lucas-rath/?originalSubdomain=bo)\n",
    "> Broke down the GP function very nicely. Nice enough for me to follow."
   ]
  },
  {
   "cell_type": "markdown",
   "metadata": {},
   "source": [
    "## Imports"
   ]
  },
  {
   "cell_type": "code",
   "execution_count": 1,
   "metadata": {},
   "outputs": [],
   "source": [
    "import functools\n",
    "\n",
    "import jax\n",
    "import jax.numpy as jnp\n",
    "from jax.experimental import optimizers\n",
    "import numpy as np\n",
    "import numpy as onp\n",
    "\n",
    "import logging\n",
    "logger = logging.getLogger()\n",
    "logger.setLevel(logging.DEBUG)\n",
    "\n",
    "\n",
    "# Plotting libraries\n",
    "import matplotlib.pyplot as plt\n",
    "plt.style.use(['seaborn-paper'])"
   ]
  },
  {
   "cell_type": "markdown",
   "metadata": {},
   "source": [
    "## Data"
   ]
  },
  {
   "cell_type": "code",
   "execution_count": 2,
   "metadata": {},
   "outputs": [],
   "source": [
    "def get_data(N=30, sigma_obs=0.15, N_test=400):\n",
    "    onp.random.seed(0)\n",
    "    X = jnp.linspace(-1, 1, N)\n",
    "    Y = X + 0.2 * jnp.power(X, 3.0) + 0.5 * jnp.power(0.5 + X, 2.0) * jnp.sin(4.0 * X)\n",
    "    Y += sigma_obs * onp.random.randn(N)\n",
    "    Y -= jnp.mean(Y)\n",
    "    Y /= jnp.std(Y)\n",
    "\n",
    "    assert X.shape == (N,)\n",
    "    assert Y.shape == (N,)\n",
    "\n",
    "    X_test = jnp.linspace(-1.2, 1.2, N_test)\n",
    "\n",
    "    return X[:, None], Y[:, None], X_test[:, None], None"
   ]
  },
  {
   "cell_type": "code",
   "execution_count": 4,
   "metadata": {},
   "outputs": [
    {
     "name": "stdout",
     "output_type": "stream",
     "text": [
      "(30, 1) (30, 1)\n"
     ]
    },
    {
     "data": {
      "image/png": "[encoded data removed]",
      "text/plain": [
       "<Figure size 460.8x316.8 with 1 Axes>"
      ]
     },
     "metadata": {
      "needs_background": "light"
     },
     "output_type": "display_data"
    }
   ],
   "source": [
    "logger.setLevel(logging.INFO)\n",
    ", y, Xtest, ytest = get_data()\n",
    "print(X.shape, y.shape)\n",
    "\n",
    "fig, ax = plt.subplots()\n",
    "ax.scatter(X, y, c='red')\n",
    "plt.show()"
   ]
  },
  {
   "cell_type": "markdown",
   "metadata": {},
   "source": [
    "## Gaussian Process"
   ]
  },
  {
   "cell_type": "markdown",
   "metadata": {},
   "source": [
    "## Model: GP Prior\n",
    "\n",
    "**Parameters**:\n",
    "\n",
    "* X, Y, $\\theta= $ (Likelihood Parameters, Kernel Parameters)\n",
    "\n",
    "1. Compute the Kernel Matrix\n",
    "2. Compute the Mean function\n",
    "3. Sample from the Multivariate Normal Distribution"
   ]
  },
  {
   "cell_type": "markdown",
   "metadata": {},
   "source": [
    "### Kernel Function\n",
    "\n",
    "$$k(x,y) = \\sigma_f \\exp \\left( - \\frac{1}{2\\sigma_\\lambda^2}|| x - y||^2_2 \\right)$$"
   ]
  },
  {
   "cell_type": "code",
   "execution_count": 5,
   "metadata": {},
   "outputs": [],
   "source": [
    "# Squared Euclidean Distance Formula\n",
    "@jax.jit\n",
    "def sqeuclidean_distance(x, y):\n",
    "    return jnp.sum((x-y)**2)\n",
    "\n",
    "# RBF Kernel\n",
    "@jax.jit\n",
    "def rbf_kernel(params, x, y):\n",
    "    return jnp.exp( - params['gamma'] * sqeuclidean_distance(x, y))\n",
    "\n",
    "# ARD Kernel\n",
    "@jax.jit\n",
    "def ard_kernel(params, x, y):\n",
    "    \n",
    "    # divide by the length scale\n",
    "    x = x / params['length_scale']\n",
    "    y = y / params['length_scale']\n",
    "    \n",
    "    # return the ard kernel\n",
    "    return params['var_f'] * jnp.exp( - sqeuclidean_distance(x, y) )"
   ]
  },
  {
   "cell_type": "code",
   "execution_count": 6,
   "metadata": {},
   "outputs": [],
   "source": [
    "params = {\n",
    "    'var_f': 1.0,\n",
    "    'sigma': 1.0\n",
    "}\n",
    "\n"
   ]
  },
  {
   "cell_type": "markdown",
   "metadata": {},
   "source": [
    "### Kernel Matrix"
   ]
  },
  {
   "cell_type": "code",
   "execution_count": 7,
   "metadata": {},
   "outputs": [],
   "source": [
    "# Gram Matrix\n",
    "def gram(func, params, x, y):\n",
    "    return jax.vmap(lambda x1: jax.vmap(lambda y1: func(params, x1, y1))(y))(x)"
   ]
  },
  {
   "cell_type": "code",
   "execution_count": 8,
   "metadata": {},
   "outputs": [
    {
     "name": "stdout",
     "output_type": "stream",
     "text": [
      "(400, 30)\n",
      "(30, 400)\n"
     ]
    }
   ],
   "source": [
    "params = {\n",
    "    'gamma': 1.0,\n",
    "    'var_f': 1.0,\n",
    "    'likelihood_noise': 0.01,\n",
    "}\n",
    "# input vector\n",
    "# x_plot = jnp.linspace(X.min(), X.max(), 100)[:, None]\n",
    "# test_X = x_plot[0, :]\n",
    "\n",
    "\n",
    "cov_f = functools.partial(gram, rbf_kernel)\n",
    "K_ = cov_f(params, Xtest, X)\n",
    "print(K_.shape)\n",
    "\n",
    "K_ = cov_f(params, X, Xtest)\n",
    "print(K_.shape)"
   ]
  },
  {
   "cell_type": "markdown",
   "metadata": {},
   "source": [
    "### Mean Function\n",
    "\n",
    "Honestly, I never work with mean functions. I always assume a zero-mean function and that's it. I don't really know anyone who works with mean functions either. I've seen it used in deep Gaussian processes but I have no expertise in which mean functions to use. So, we'll follow the community standard for now: zero mean function"
   ]
  },
  {
   "cell_type": "code",
   "execution_count": 9,
   "metadata": {},
   "outputs": [],
   "source": [
    "def zero_mean(x):\n",
    "    return jnp.zeros(x.shape[0])"
   ]
  },
  {
   "cell_type": "markdown",
   "metadata": {},
   "source": [
    "### 3. Compute Model"
   ]
  },
  {
   "cell_type": "markdown",
   "metadata": {},
   "source": [
    "Now we have all of the components to make our GP prior function."
   ]
  },
  {
   "cell_type": "code",
   "execution_count": 10,
   "metadata": {},
   "outputs": [],
   "source": [
    "def gp_prior(params, mu_f, cov_f, x):\n",
    "    return mu_f(x) , cov_f(params, x, x)"
   ]
  },
  {
   "cell_type": "code",
   "execution_count": 11,
   "metadata": {},
   "outputs": [],
   "source": [
    "# define mean function\n",
    "mu_f = zero_mean\n",
    "\n",
    "# define covariance function\n",
    "params = {\n",
    "    'gamma': 1.0,\n",
    "    'var_f': 1.0\n",
    "}\n",
    "\n",
    "cov_f = functools.partial(gram, rbf_kernel)\n",
    "\n",
    "mu_x, cov_x = gp_prior(params, mu_f=mu_f, cov_f=cov_f, x=X[0, :])"
   ]
  },
  {
   "cell_type": "markdown",
   "metadata": {},
   "source": [
    "#### Checks\n",
    "\n",
    "So I'm still getting used to the `vmap`. So in theory, this function should work for a vector $\\mathbf{x} \\in \\mathbb{R}^{D}$ and for a batch of samples $X \\in \\mathbb{R}^{N \\times D}$"
   ]
  },
  {
   "cell_type": "code",
   "execution_count": 12,
   "metadata": {},
   "outputs": [
    {
     "name": "stderr",
     "output_type": "stream",
     "text": [
      "DEBUG:absl:Compiling rbf_kernel for args (ShapedArray(float32[], weak_type=True), ShapedArray(float32[], weak_type=True), ShapedArray(float32[30,1]), ShapedArray(float32[30,1])).\n"
     ]
    },
    {
     "name": "stdout",
     "output_type": "stream",
     "text": [
      "(1,) (1, 1)\n"
     ]
    }
   ],
   "source": [
    "# checks - 1 vector (D)\n",
    "test_X = X[0, :].copy()\n",
    "mu_x, cov_x = gp_prior(params, mu_f=mu_f, cov_f=cov_f, x=test_X) \n",
    "\n",
    "print(mu_x.shape, cov_x.shape)\n",
    "assert mu_x.shape[0] == test_X.shape[0]\n",
    "assert jnp.ndim(mu_x) == 1\n",
    "# Check output shapes, # of dimensions\n",
    "assert cov_x.shape[0] == test_X.shape[0]\n",
    "assert jnp.ndim(cov_x) == 2 \n",
    "\n",
    "\n",
    "# checks - 1 vector with batch size (NxD)\n",
    "test_X = X.copy()\n",
    "mu_x, cov_x = gp_prior(params, mu_f=mu_f, cov_f=cov_f, x=test_X) \n",
    "\n",
    "\n",
    "assert mu_x.shape[0] == test_X.shape[0]\n",
    "assert jnp.ndim(mu_x) == 1\n",
    "# Check output shapes, # of dimensions\n",
    "assert cov_x.shape[0] == test_X.shape[0]\n",
    "assert jnp.ndim(cov_x) == 2"
   ]
  },
  {
   "cell_type": "markdown",
   "metadata": {},
   "source": [
    "Woot! Success! So now we can technically sample from this GP prior distribution."
   ]
  },
  {
   "cell_type": "markdown",
   "metadata": {
    "toc-hr-collapsed": true,
    "toc-nb-collapsed": true
   },
   "source": [
    "### 4. Sampling from GP Prior"
   ]
  },
  {
   "cell_type": "code",
   "execution_count": 307,
   "metadata": {},
   "outputs": [],
   "source": [
    "from scipy.stats import multivariate_normal as scio_mvn"
   ]
  },
  {
   "cell_type": "markdown",
   "metadata": {},
   "source": [
    "#### Scipy"
   ]
  },
  {
   "cell_type": "code",
   "execution_count": 182,
   "metadata": {},
   "outputs": [
    {
     "ename": "KeyError",
     "evalue": "'gamma'",
     "output_type": "error",
     "traceback": [
      "\u001b[0;31m---------------------------------------------------------------------------\u001b[0m",
      "\u001b[0;31mKeyError\u001b[0m                                  Traceback (most recent call last)",
      "\u001b[0;32m<ipython-input-182-7c0d1026349a>\u001b[0m in \u001b[0;36m<module>\u001b[0;34m\u001b[0m\n\u001b[1;32m      9\u001b[0m \u001b[0mtest_X\u001b[0m \u001b[0;34m=\u001b[0m \u001b[0mX\u001b[0m\u001b[0;34m[\u001b[0m\u001b[0;34m:\u001b[0m\u001b[0mn_samples\u001b[0m\u001b[0;34m,\u001b[0m \u001b[0;34m:\u001b[0m\u001b[0;34m]\u001b[0m\u001b[0;34m.\u001b[0m\u001b[0mcopy\u001b[0m\u001b[0;34m(\u001b[0m\u001b[0;34m)\u001b[0m \u001b[0;31m# random samples from distribution\u001b[0m\u001b[0;34m\u001b[0m\u001b[0;34m\u001b[0m\u001b[0m\n\u001b[1;32m     10\u001b[0m \u001b[0;34m\u001b[0m\u001b[0m\n\u001b[0;32m---> 11\u001b[0;31m \u001b[0mmu_x\u001b[0m\u001b[0;34m,\u001b[0m \u001b[0mcov_x\u001b[0m \u001b[0;34m=\u001b[0m \u001b[0mgp_prior\u001b[0m\u001b[0;34m(\u001b[0m\u001b[0mparams\u001b[0m\u001b[0;34m,\u001b[0m \u001b[0mmu_f\u001b[0m\u001b[0;34m=\u001b[0m\u001b[0mmu_f\u001b[0m\u001b[0;34m,\u001b[0m \u001b[0mcov_f\u001b[0m\u001b[0;34m=\u001b[0m\u001b[0mcov_f\u001b[0m \u001b[0;34m,\u001b[0m \u001b[0mx\u001b[0m\u001b[0;34m=\u001b[0m\u001b[0mtest_X\u001b[0m\u001b[0;34m)\u001b[0m\u001b[0;34m\u001b[0m\u001b[0;34m\u001b[0m\u001b[0m\n\u001b[0m\u001b[1;32m     12\u001b[0m \u001b[0;34m\u001b[0m\u001b[0m\n\u001b[1;32m     13\u001b[0m \u001b[0;31m# check outputs\u001b[0m\u001b[0;34m\u001b[0m\u001b[0;34m\u001b[0m\u001b[0;34m\u001b[0m\u001b[0m\n",
      "\u001b[0;32m<ipython-input-178-5213747816ca>\u001b[0m in \u001b[0;36mgp_prior\u001b[0;34m(params, mu_f, cov_f, x)\u001b[0m\n\u001b[1;32m      1\u001b[0m \u001b[0;32mdef\u001b[0m \u001b[0mgp_prior\u001b[0m\u001b[0;34m(\u001b[0m\u001b[0mparams\u001b[0m\u001b[0;34m,\u001b[0m \u001b[0mmu_f\u001b[0m\u001b[0;34m,\u001b[0m \u001b[0mcov_f\u001b[0m\u001b[0;34m,\u001b[0m \u001b[0mx\u001b[0m\u001b[0;34m)\u001b[0m\u001b[0;34m:\u001b[0m\u001b[0;34m\u001b[0m\u001b[0;34m\u001b[0m\u001b[0m\n\u001b[0;32m----> 2\u001b[0;31m     \u001b[0;32mreturn\u001b[0m \u001b[0mmu_f\u001b[0m\u001b[0;34m(\u001b[0m\u001b[0mx\u001b[0m\u001b[0;34m)\u001b[0m \u001b[0;34m,\u001b[0m \u001b[0mcov_f\u001b[0m\u001b[0;34m(\u001b[0m\u001b[0mparams\u001b[0m\u001b[0;34m,\u001b[0m \u001b[0mx\u001b[0m\u001b[0;34m,\u001b[0m \u001b[0mx\u001b[0m\u001b[0;34m)\u001b[0m\u001b[0;34m\u001b[0m\u001b[0;34m\u001b[0m\u001b[0m\n\u001b[0m",
      "\u001b[0;32m<ipython-input-175-6d9cf91bb78f>\u001b[0m in \u001b[0;36mgram\u001b[0;34m(func, params, x, y)\u001b[0m\n\u001b[1;32m      1\u001b[0m \u001b[0;31m# Gram Matrix\u001b[0m\u001b[0;34m\u001b[0m\u001b[0;34m\u001b[0m\u001b[0;34m\u001b[0m\u001b[0m\n\u001b[1;32m      2\u001b[0m \u001b[0;32mdef\u001b[0m \u001b[0mgram\u001b[0m\u001b[0;34m(\u001b[0m\u001b[0mfunc\u001b[0m\u001b[0;34m,\u001b[0m \u001b[0mparams\u001b[0m\u001b[0;34m,\u001b[0m \u001b[0mx\u001b[0m\u001b[0;34m,\u001b[0m \u001b[0my\u001b[0m\u001b[0;34m)\u001b[0m\u001b[0;34m:\u001b[0m\u001b[0;34m\u001b[0m\u001b[0;34m\u001b[0m\u001b[0m\n\u001b[0;32m----> 3\u001b[0;31m     \u001b[0;32mreturn\u001b[0m \u001b[0mjax\u001b[0m\u001b[0;34m.\u001b[0m\u001b[0mvmap\u001b[0m\u001b[0;34m(\u001b[0m\u001b[0;32mlambda\u001b[0m \u001b[0mx1\u001b[0m\u001b[0;34m:\u001b[0m \u001b[0mjax\u001b[0m\u001b[0;34m.\u001b[0m\u001b[0mvmap\u001b[0m\u001b[0;34m(\u001b[0m\u001b[0;32mlambda\u001b[0m \u001b[0my1\u001b[0m\u001b[0;34m:\u001b[0m \u001b[0mfunc\u001b[0m\u001b[0;34m(\u001b[0m\u001b[0mparams\u001b[0m\u001b[0;34m,\u001b[0m \u001b[0mx1\u001b[0m\u001b[0;34m,\u001b[0m \u001b[0my1\u001b[0m\u001b[0;34m)\u001b[0m\u001b[0;34m)\u001b[0m\u001b[0;34m(\u001b[0m\u001b[0my\u001b[0m\u001b[0;34m)\u001b[0m\u001b[0;34m)\u001b[0m\u001b[0;34m(\u001b[0m\u001b[0mx\u001b[0m\u001b[0;34m)\u001b[0m\u001b[0;34m\u001b[0m\u001b[0;34m\u001b[0m\u001b[0m\n\u001b[0m",
      "\u001b[0;32m~/.conda/envs/jax_py38/lib/python3.8/site-packages/jax/api.py\u001b[0m in \u001b[0;36mbatched_fun\u001b[0;34m(*args)\u001b[0m\n\u001b[1;32m    756\u001b[0m     \u001b[0min_axes_flat\u001b[0m \u001b[0;34m=\u001b[0m \u001b[0m_flatten_axes\u001b[0m\u001b[0;34m(\u001b[0m\u001b[0min_tree\u001b[0m\u001b[0;34m,\u001b[0m \u001b[0min_axes\u001b[0m\u001b[0;34m)\u001b[0m\u001b[0;34m\u001b[0m\u001b[0;34m\u001b[0m\u001b[0m\n\u001b[1;32m    757\u001b[0m     \u001b[0m_check_axis_sizes\u001b[0m\u001b[0;34m(\u001b[0m\u001b[0min_tree\u001b[0m\u001b[0;34m,\u001b[0m \u001b[0margs_flat\u001b[0m\u001b[0;34m,\u001b[0m \u001b[0min_axes_flat\u001b[0m\u001b[0;34m)\u001b[0m\u001b[0;34m\u001b[0m\u001b[0;34m\u001b[0m\u001b[0m\n\u001b[0;32m--> 758\u001b[0;31m     out_flat = batching.batch(flat_fun, args_flat, in_axes_flat,\n\u001b[0m\u001b[1;32m    759\u001b[0m                               lambda: _flatten_axes(out_tree(), out_axes))\n\u001b[1;32m    760\u001b[0m     \u001b[0;32mreturn\u001b[0m \u001b[0mtree_unflatten\u001b[0m\u001b[0;34m(\u001b[0m\u001b[0mout_tree\u001b[0m\u001b[0;34m(\u001b[0m\u001b[0;34m)\u001b[0m\u001b[0;34m,\u001b[0m \u001b[0mout_flat\u001b[0m\u001b[0;34m)\u001b[0m\u001b[0;34m\u001b[0m\u001b[0;34m\u001b[0m\u001b[0m\n",
      "\u001b[0;32m~/.conda/envs/jax_py38/lib/python3.8/site-packages/jax/interpreters/batching.py\u001b[0m in \u001b[0;36mbatch\u001b[0;34m(fun, in_vals, in_dims, out_dim_dests)\u001b[0m\n\u001b[1;32m     32\u001b[0m   \u001b[0;31m# executes a batched version of `fun` following out_dim_dests\u001b[0m\u001b[0;34m\u001b[0m\u001b[0;34m\u001b[0m\u001b[0;34m\u001b[0m\u001b[0m\n\u001b[1;32m     33\u001b[0m   \u001b[0mbatched_fun\u001b[0m \u001b[0;34m=\u001b[0m \u001b[0mbatch_fun\u001b[0m\u001b[0;34m(\u001b[0m\u001b[0mfun\u001b[0m\u001b[0;34m,\u001b[0m \u001b[0min_dims\u001b[0m\u001b[0;34m,\u001b[0m \u001b[0mout_dim_dests\u001b[0m\u001b[0;34m)\u001b[0m\u001b[0;34m\u001b[0m\u001b[0;34m\u001b[0m\u001b[0m\n\u001b[0;32m---> 34\u001b[0;31m   \u001b[0;32mreturn\u001b[0m \u001b[0mbatched_fun\u001b[0m\u001b[0;34m.\u001b[0m\u001b[0mcall_wrapped\u001b[0m\u001b[0;34m(\u001b[0m\u001b[0;34m*\u001b[0m\u001b[0min_vals\u001b[0m\u001b[0;34m)\u001b[0m\u001b[0;34m\u001b[0m\u001b[0;34m\u001b[0m\u001b[0m\n\u001b[0m\u001b[1;32m     35\u001b[0m \u001b[0;34m\u001b[0m\u001b[0m\n\u001b[1;32m     36\u001b[0m \u001b[0;34m@\u001b[0m\u001b[0mlu\u001b[0m\u001b[0;34m.\u001b[0m\u001b[0mtransformation_with_aux\u001b[0m\u001b[0;34m\u001b[0m\u001b[0;34m\u001b[0m\u001b[0m\n",
      "\u001b[0;32m~/.conda/envs/jax_py38/lib/python3.8/site-packages/jax/linear_util.py\u001b[0m in \u001b[0;36mcall_wrapped\u001b[0;34m(self, *args, **kwargs)\u001b[0m\n\u001b[1;32m    148\u001b[0m     \u001b[0mgen\u001b[0m \u001b[0;34m=\u001b[0m \u001b[0;32mNone\u001b[0m\u001b[0;34m\u001b[0m\u001b[0;34m\u001b[0m\u001b[0m\n\u001b[1;32m    149\u001b[0m \u001b[0;34m\u001b[0m\u001b[0m\n\u001b[0;32m--> 150\u001b[0;31m     \u001b[0mans\u001b[0m \u001b[0;34m=\u001b[0m \u001b[0mself\u001b[0m\u001b[0;34m.\u001b[0m\u001b[0mf\u001b[0m\u001b[0;34m(\u001b[0m\u001b[0;34m*\u001b[0m\u001b[0margs\u001b[0m\u001b[0;34m,\u001b[0m \u001b[0;34m**\u001b[0m\u001b[0mdict\u001b[0m\u001b[0;34m(\u001b[0m\u001b[0mself\u001b[0m\u001b[0;34m.\u001b[0m\u001b[0mparams\u001b[0m\u001b[0;34m,\u001b[0m \u001b[0;34m**\u001b[0m\u001b[0mkwargs\u001b[0m\u001b[0;34m)\u001b[0m\u001b[0;34m)\u001b[0m\u001b[0;34m\u001b[0m\u001b[0;34m\u001b[0m\u001b[0m\n\u001b[0m\u001b[1;32m    151\u001b[0m     \u001b[0;32mdel\u001b[0m \u001b[0margs\u001b[0m\u001b[0;34m\u001b[0m\u001b[0;34m\u001b[0m\u001b[0m\n\u001b[1;32m    152\u001b[0m     \u001b[0;32mwhile\u001b[0m \u001b[0mstack\u001b[0m\u001b[0;34m:\u001b[0m\u001b[0;34m\u001b[0m\u001b[0;34m\u001b[0m\u001b[0m\n",
      "\u001b[0;32m<ipython-input-175-6d9cf91bb78f>\u001b[0m in \u001b[0;36m<lambda>\u001b[0;34m(x1)\u001b[0m\n\u001b[1;32m      1\u001b[0m \u001b[0;31m# Gram Matrix\u001b[0m\u001b[0;34m\u001b[0m\u001b[0;34m\u001b[0m\u001b[0;34m\u001b[0m\u001b[0m\n\u001b[1;32m      2\u001b[0m \u001b[0;32mdef\u001b[0m \u001b[0mgram\u001b[0m\u001b[0;34m(\u001b[0m\u001b[0mfunc\u001b[0m\u001b[0;34m,\u001b[0m \u001b[0mparams\u001b[0m\u001b[0;34m,\u001b[0m \u001b[0mx\u001b[0m\u001b[0;34m,\u001b[0m \u001b[0my\u001b[0m\u001b[0;34m)\u001b[0m\u001b[0;34m:\u001b[0m\u001b[0;34m\u001b[0m\u001b[0;34m\u001b[0m\u001b[0m\n\u001b[0;32m----> 3\u001b[0;31m     \u001b[0;32mreturn\u001b[0m \u001b[0mjax\u001b[0m\u001b[0;34m.\u001b[0m\u001b[0mvmap\u001b[0m\u001b[0;34m(\u001b[0m\u001b[0;32mlambda\u001b[0m \u001b[0mx1\u001b[0m\u001b[0;34m:\u001b[0m \u001b[0mjax\u001b[0m\u001b[0;34m.\u001b[0m\u001b[0mvmap\u001b[0m\u001b[0;34m(\u001b[0m\u001b[0;32mlambda\u001b[0m \u001b[0my1\u001b[0m\u001b[0;34m:\u001b[0m \u001b[0mfunc\u001b[0m\u001b[0;34m(\u001b[0m\u001b[0mparams\u001b[0m\u001b[0;34m,\u001b[0m \u001b[0mx1\u001b[0m\u001b[0;34m,\u001b[0m \u001b[0my1\u001b[0m\u001b[0;34m)\u001b[0m\u001b[0;34m)\u001b[0m\u001b[0;34m(\u001b[0m\u001b[0my\u001b[0m\u001b[0;34m)\u001b[0m\u001b[0;34m)\u001b[0m\u001b[0;34m(\u001b[0m\u001b[0mx\u001b[0m\u001b[0;34m)\u001b[0m\u001b[0;34m\u001b[0m\u001b[0;34m\u001b[0m\u001b[0m\n\u001b[0m",
      "\u001b[0;32m~/.conda/envs/jax_py38/lib/python3.8/site-packages/jax/api.py\u001b[0m in \u001b[0;36mbatched_fun\u001b[0;34m(*args)\u001b[0m\n\u001b[1;32m    756\u001b[0m     \u001b[0min_axes_flat\u001b[0m \u001b[0;34m=\u001b[0m \u001b[0m_flatten_axes\u001b[0m\u001b[0;34m(\u001b[0m\u001b[0min_tree\u001b[0m\u001b[0;34m,\u001b[0m \u001b[0min_axes\u001b[0m\u001b[0;34m)\u001b[0m\u001b[0;34m\u001b[0m\u001b[0;34m\u001b[0m\u001b[0m\n\u001b[1;32m    757\u001b[0m     \u001b[0m_check_axis_sizes\u001b[0m\u001b[0;34m(\u001b[0m\u001b[0min_tree\u001b[0m\u001b[0;34m,\u001b[0m \u001b[0margs_flat\u001b[0m\u001b[0;34m,\u001b[0m \u001b[0min_axes_flat\u001b[0m\u001b[0;34m)\u001b[0m\u001b[0;34m\u001b[0m\u001b[0;34m\u001b[0m\u001b[0m\n\u001b[0;32m--> 758\u001b[0;31m     out_flat = batching.batch(flat_fun, args_flat, in_axes_flat,\n\u001b[0m\u001b[1;32m    759\u001b[0m                               lambda: _flatten_axes(out_tree(), out_axes))\n\u001b[1;32m    760\u001b[0m     \u001b[0;32mreturn\u001b[0m \u001b[0mtree_unflatten\u001b[0m\u001b[0;34m(\u001b[0m\u001b[0mout_tree\u001b[0m\u001b[0;34m(\u001b[0m\u001b[0;34m)\u001b[0m\u001b[0;34m,\u001b[0m \u001b[0mout_flat\u001b[0m\u001b[0;34m)\u001b[0m\u001b[0;34m\u001b[0m\u001b[0;34m\u001b[0m\u001b[0m\n",
      "\u001b[0;32m~/.conda/envs/jax_py38/lib/python3.8/site-packages/jax/interpreters/batching.py\u001b[0m in \u001b[0;36mbatch\u001b[0;34m(fun, in_vals, in_dims, out_dim_dests)\u001b[0m\n\u001b[1;32m     32\u001b[0m   \u001b[0;31m# executes a batched version of `fun` following out_dim_dests\u001b[0m\u001b[0;34m\u001b[0m\u001b[0;34m\u001b[0m\u001b[0;34m\u001b[0m\u001b[0m\n\u001b[1;32m     33\u001b[0m   \u001b[0mbatched_fun\u001b[0m \u001b[0;34m=\u001b[0m \u001b[0mbatch_fun\u001b[0m\u001b[0;34m(\u001b[0m\u001b[0mfun\u001b[0m\u001b[0;34m,\u001b[0m \u001b[0min_dims\u001b[0m\u001b[0;34m,\u001b[0m \u001b[0mout_dim_dests\u001b[0m\u001b[0;34m)\u001b[0m\u001b[0;34m\u001b[0m\u001b[0;34m\u001b[0m\u001b[0m\n\u001b[0;32m---> 34\u001b[0;31m   \u001b[0;32mreturn\u001b[0m \u001b[0mbatched_fun\u001b[0m\u001b[0;34m.\u001b[0m\u001b[0mcall_wrapped\u001b[0m\u001b[0;34m(\u001b[0m\u001b[0;34m*\u001b[0m\u001b[0min_vals\u001b[0m\u001b[0;34m)\u001b[0m\u001b[0;34m\u001b[0m\u001b[0;34m\u001b[0m\u001b[0m\n\u001b[0m\u001b[1;32m     35\u001b[0m \u001b[0;34m\u001b[0m\u001b[0m\n\u001b[1;32m     36\u001b[0m \u001b[0;34m@\u001b[0m\u001b[0mlu\u001b[0m\u001b[0;34m.\u001b[0m\u001b[0mtransformation_with_aux\u001b[0m\u001b[0;34m\u001b[0m\u001b[0;34m\u001b[0m\u001b[0m\n",
      "\u001b[0;32m~/.conda/envs/jax_py38/lib/python3.8/site-packages/jax/linear_util.py\u001b[0m in \u001b[0;36mcall_wrapped\u001b[0;34m(self, *args, **kwargs)\u001b[0m\n\u001b[1;32m    148\u001b[0m     \u001b[0mgen\u001b[0m \u001b[0;34m=\u001b[0m \u001b[0;32mNone\u001b[0m\u001b[0;34m\u001b[0m\u001b[0;34m\u001b[0m\u001b[0m\n\u001b[1;32m    149\u001b[0m \u001b[0;34m\u001b[0m\u001b[0m\n\u001b[0;32m--> 150\u001b[0;31m     \u001b[0mans\u001b[0m \u001b[0;34m=\u001b[0m \u001b[0mself\u001b[0m\u001b[0;34m.\u001b[0m\u001b[0mf\u001b[0m\u001b[0;34m(\u001b[0m\u001b[0;34m*\u001b[0m\u001b[0margs\u001b[0m\u001b[0;34m,\u001b[0m \u001b[0;34m**\u001b[0m\u001b[0mdict\u001b[0m\u001b[0;34m(\u001b[0m\u001b[0mself\u001b[0m\u001b[0;34m.\u001b[0m\u001b[0mparams\u001b[0m\u001b[0;34m,\u001b[0m \u001b[0;34m**\u001b[0m\u001b[0mkwargs\u001b[0m\u001b[0;34m)\u001b[0m\u001b[0;34m)\u001b[0m\u001b[0;34m\u001b[0m\u001b[0;34m\u001b[0m\u001b[0m\n\u001b[0m\u001b[1;32m    151\u001b[0m     \u001b[0;32mdel\u001b[0m \u001b[0margs\u001b[0m\u001b[0;34m\u001b[0m\u001b[0;34m\u001b[0m\u001b[0m\n\u001b[1;32m    152\u001b[0m     \u001b[0;32mwhile\u001b[0m \u001b[0mstack\u001b[0m\u001b[0;34m:\u001b[0m\u001b[0;34m\u001b[0m\u001b[0;34m\u001b[0m\u001b[0m\n",
      "\u001b[0;32m<ipython-input-175-6d9cf91bb78f>\u001b[0m in \u001b[0;36m<lambda>\u001b[0;34m(y1)\u001b[0m\n\u001b[1;32m      1\u001b[0m \u001b[0;31m# Gram Matrix\u001b[0m\u001b[0;34m\u001b[0m\u001b[0;34m\u001b[0m\u001b[0;34m\u001b[0m\u001b[0m\n\u001b[1;32m      2\u001b[0m \u001b[0;32mdef\u001b[0m \u001b[0mgram\u001b[0m\u001b[0;34m(\u001b[0m\u001b[0mfunc\u001b[0m\u001b[0;34m,\u001b[0m \u001b[0mparams\u001b[0m\u001b[0;34m,\u001b[0m \u001b[0mx\u001b[0m\u001b[0;34m,\u001b[0m \u001b[0my\u001b[0m\u001b[0;34m)\u001b[0m\u001b[0;34m:\u001b[0m\u001b[0;34m\u001b[0m\u001b[0;34m\u001b[0m\u001b[0m\n\u001b[0;32m----> 3\u001b[0;31m     \u001b[0;32mreturn\u001b[0m \u001b[0mjax\u001b[0m\u001b[0;34m.\u001b[0m\u001b[0mvmap\u001b[0m\u001b[0;34m(\u001b[0m\u001b[0;32mlambda\u001b[0m \u001b[0mx1\u001b[0m\u001b[0;34m:\u001b[0m \u001b[0mjax\u001b[0m\u001b[0;34m.\u001b[0m\u001b[0mvmap\u001b[0m\u001b[0;34m(\u001b[0m\u001b[0;32mlambda\u001b[0m \u001b[0my1\u001b[0m\u001b[0;34m:\u001b[0m \u001b[0mfunc\u001b[0m\u001b[0;34m(\u001b[0m\u001b[0mparams\u001b[0m\u001b[0;34m,\u001b[0m \u001b[0mx1\u001b[0m\u001b[0;34m,\u001b[0m \u001b[0my1\u001b[0m\u001b[0;34m)\u001b[0m\u001b[0;34m)\u001b[0m\u001b[0;34m(\u001b[0m\u001b[0my\u001b[0m\u001b[0;34m)\u001b[0m\u001b[0;34m)\u001b[0m\u001b[0;34m(\u001b[0m\u001b[0mx\u001b[0m\u001b[0;34m)\u001b[0m\u001b[0;34m\u001b[0m\u001b[0;34m\u001b[0m\u001b[0m\n\u001b[0m",
      "\u001b[0;32m<ipython-input-173-a1a5400824ce>\u001b[0m in \u001b[0;36mrbf_kernel\u001b[0;34m(params, x, y)\u001b[0m\n\u001b[1;32m      7\u001b[0m \u001b[0;31m# @jax.jit\u001b[0m\u001b[0;34m\u001b[0m\u001b[0;34m\u001b[0m\u001b[0;34m\u001b[0m\u001b[0m\n\u001b[1;32m      8\u001b[0m \u001b[0;32mdef\u001b[0m \u001b[0mrbf_kernel\u001b[0m\u001b[0;34m(\u001b[0m\u001b[0mparams\u001b[0m\u001b[0;34m,\u001b[0m \u001b[0mx\u001b[0m\u001b[0;34m,\u001b[0m \u001b[0my\u001b[0m\u001b[0;34m)\u001b[0m\u001b[0;34m:\u001b[0m\u001b[0;34m\u001b[0m\u001b[0;34m\u001b[0m\u001b[0m\n\u001b[0;32m----> 9\u001b[0;31m     \u001b[0;32mreturn\u001b[0m \u001b[0mjnp\u001b[0m\u001b[0;34m.\u001b[0m\u001b[0mexp\u001b[0m\u001b[0;34m(\u001b[0m \u001b[0;34m-\u001b[0m \u001b[0mparams\u001b[0m\u001b[0;34m[\u001b[0m\u001b[0;34m'gamma'\u001b[0m\u001b[0;34m]\u001b[0m \u001b[0;34m*\u001b[0m \u001b[0msqeuclidean_distance\u001b[0m\u001b[0;34m(\u001b[0m\u001b[0mx\u001b[0m\u001b[0;34m,\u001b[0m \u001b[0my\u001b[0m\u001b[0;34m)\u001b[0m\u001b[0;34m)\u001b[0m\u001b[0;34m\u001b[0m\u001b[0;34m\u001b[0m\u001b[0m\n\u001b[0m\u001b[1;32m     10\u001b[0m \u001b[0;34m\u001b[0m\u001b[0m\n\u001b[1;32m     11\u001b[0m \u001b[0;31m# ARD Kernel\u001b[0m\u001b[0;34m\u001b[0m\u001b[0;34m\u001b[0m\u001b[0;34m\u001b[0m\u001b[0m\n",
      "\u001b[0;31mKeyError\u001b[0m: 'gamma'"
     ]
    }
   ],
   "source": [
    "# checks - 1 vector (D)\n",
    "params = {\n",
    "    'length_scale': 0.1, \n",
    "    'var_f': 1.0, \n",
    "}\n",
    "\n",
    "\n",
    "n_samples = 10                   # condition on 3 samples \n",
    "test_X = X[:n_samples, :].copy() # random samples from distribution\n",
    "\n",
    "mu_x, cov_x = gp_prior(params, mu_f=mu_f, cov_f=cov_f , x=test_X)\n",
    "\n",
    "# check outputs\n",
    "assert mu_x.shape == (n_samples,)\n",
    "assert cov_x.shape == (n_samples, n_samples)\n",
    "\n",
    "# draw random samples from distribution\n",
    "n_functions = 10\n",
    "y_samples = stats.multivariate_normal.rvs(mean=mu_x, cov=cov_x, size=n_functions)\n",
    "\n",
    "assert y_samples.shape == (n_functions, n_samples)\n",
    "\n",
    "for isample in y_samples:\n",
    "    plt.plot(isample)"
   ]
  },
  {
   "cell_type": "markdown",
   "metadata": {},
   "source": [
    "#### Note - The positive semi-definite error\n",
    "\n",
    "I believe that's due to the diagonals being off. Normally we add something called jitter. This allows the matrix to be positive semi-definite."
   ]
  },
  {
   "cell_type": "code",
   "execution_count": 183,
   "metadata": {},
   "outputs": [
    {
     "ename": "KeyError",
     "evalue": "'gamma'",
     "output_type": "error",
     "traceback": [
      "\u001b[0;31m---------------------------------------------------------------------------\u001b[0m",
      "\u001b[0;31mKeyError\u001b[0m                                  Traceback (most recent call last)",
      "\u001b[0;32m<ipython-input-183-12ab200a8e55>\u001b[0m in \u001b[0;36m<module>\u001b[0;34m\u001b[0m\n\u001b[0;32m----> 1\u001b[0;31m \u001b[0mmu_x\u001b[0m\u001b[0;34m,\u001b[0m \u001b[0mcov_x\u001b[0m \u001b[0;34m=\u001b[0m \u001b[0mgp_prior\u001b[0m\u001b[0;34m(\u001b[0m\u001b[0mparams\u001b[0m\u001b[0;34m,\u001b[0m \u001b[0mmu_f\u001b[0m\u001b[0;34m=\u001b[0m\u001b[0mmu_f\u001b[0m\u001b[0;34m,\u001b[0m \u001b[0mcov_f\u001b[0m\u001b[0;34m=\u001b[0m\u001b[0mcov_f\u001b[0m \u001b[0;34m,\u001b[0m \u001b[0mx\u001b[0m\u001b[0;34m=\u001b[0m\u001b[0mtest_X\u001b[0m\u001b[0;34m)\u001b[0m\u001b[0;34m\u001b[0m\u001b[0;34m\u001b[0m\u001b[0m\n\u001b[0m\u001b[1;32m      2\u001b[0m \u001b[0;34m\u001b[0m\u001b[0m\n\u001b[1;32m      3\u001b[0m \u001b[0;31m# make it semi-positive definite with jitter\u001b[0m\u001b[0;34m\u001b[0m\u001b[0;34m\u001b[0m\u001b[0;34m\u001b[0m\u001b[0m\n\u001b[1;32m      4\u001b[0m \u001b[0mjitter\u001b[0m \u001b[0;34m=\u001b[0m \u001b[0;36m1e-6\u001b[0m\u001b[0;34m\u001b[0m\u001b[0;34m\u001b[0m\u001b[0m\n\u001b[1;32m      5\u001b[0m \u001b[0mcov_x_\u001b[0m \u001b[0;34m=\u001b[0m \u001b[0mcov_x\u001b[0m \u001b[0;34m+\u001b[0m \u001b[0mjitter\u001b[0m \u001b[0;34m*\u001b[0m \u001b[0mnp\u001b[0m\u001b[0;34m.\u001b[0m\u001b[0meye\u001b[0m\u001b[0;34m(\u001b[0m\u001b[0mcov_x\u001b[0m\u001b[0;34m.\u001b[0m\u001b[0mshape\u001b[0m\u001b[0;34m[\u001b[0m\u001b[0;36m0\u001b[0m\u001b[0;34m]\u001b[0m\u001b[0;34m)\u001b[0m\u001b[0;34m\u001b[0m\u001b[0;34m\u001b[0m\u001b[0m\n",
      "\u001b[0;32m<ipython-input-178-5213747816ca>\u001b[0m in \u001b[0;36mgp_prior\u001b[0;34m(params, mu_f, cov_f, x)\u001b[0m\n\u001b[1;32m      1\u001b[0m \u001b[0;32mdef\u001b[0m \u001b[0mgp_prior\u001b[0m\u001b[0;34m(\u001b[0m\u001b[0mparams\u001b[0m\u001b[0;34m,\u001b[0m \u001b[0mmu_f\u001b[0m\u001b[0;34m,\u001b[0m \u001b[0mcov_f\u001b[0m\u001b[0;34m,\u001b[0m \u001b[0mx\u001b[0m\u001b[0;34m)\u001b[0m\u001b[0;34m:\u001b[0m\u001b[0;34m\u001b[0m\u001b[0;34m\u001b[0m\u001b[0m\n\u001b[0;32m----> 2\u001b[0;31m     \u001b[0;32mreturn\u001b[0m \u001b[0mmu_f\u001b[0m\u001b[0;34m(\u001b[0m\u001b[0mx\u001b[0m\u001b[0;34m)\u001b[0m \u001b[0;34m,\u001b[0m \u001b[0mcov_f\u001b[0m\u001b[0;34m(\u001b[0m\u001b[0mparams\u001b[0m\u001b[0;34m,\u001b[0m \u001b[0mx\u001b[0m\u001b[0;34m,\u001b[0m \u001b[0mx\u001b[0m\u001b[0;34m)\u001b[0m\u001b[0;34m\u001b[0m\u001b[0;34m\u001b[0m\u001b[0m\n\u001b[0m",
      "\u001b[0;32m<ipython-input-175-6d9cf91bb78f>\u001b[0m in \u001b[0;36mgram\u001b[0;34m(func, params, x, y)\u001b[0m\n\u001b[1;32m      1\u001b[0m \u001b[0;31m# Gram Matrix\u001b[0m\u001b[0;34m\u001b[0m\u001b[0;34m\u001b[0m\u001b[0;34m\u001b[0m\u001b[0m\n\u001b[1;32m      2\u001b[0m \u001b[0;32mdef\u001b[0m \u001b[0mgram\u001b[0m\u001b[0;34m(\u001b[0m\u001b[0mfunc\u001b[0m\u001b[0;34m,\u001b[0m \u001b[0mparams\u001b[0m\u001b[0;34m,\u001b[0m \u001b[0mx\u001b[0m\u001b[0;34m,\u001b[0m \u001b[0my\u001b[0m\u001b[0;34m)\u001b[0m\u001b[0;34m:\u001b[0m\u001b[0;34m\u001b[0m\u001b[0;34m\u001b[0m\u001b[0m\n\u001b[0;32m----> 3\u001b[0;31m     \u001b[0;32mreturn\u001b[0m \u001b[0mjax\u001b[0m\u001b[0;34m.\u001b[0m\u001b[0mvmap\u001b[0m\u001b[0;34m(\u001b[0m\u001b[0;32mlambda\u001b[0m \u001b[0mx1\u001b[0m\u001b[0;34m:\u001b[0m \u001b[0mjax\u001b[0m\u001b[0;34m.\u001b[0m\u001b[0mvmap\u001b[0m\u001b[0;34m(\u001b[0m\u001b[0;32mlambda\u001b[0m \u001b[0my1\u001b[0m\u001b[0;34m:\u001b[0m \u001b[0mfunc\u001b[0m\u001b[0;34m(\u001b[0m\u001b[0mparams\u001b[0m\u001b[0;34m,\u001b[0m \u001b[0mx1\u001b[0m\u001b[0;34m,\u001b[0m \u001b[0my1\u001b[0m\u001b[0;34m)\u001b[0m\u001b[0;34m)\u001b[0m\u001b[0;34m(\u001b[0m\u001b[0my\u001b[0m\u001b[0;34m)\u001b[0m\u001b[0;34m)\u001b[0m\u001b[0;34m(\u001b[0m\u001b[0mx\u001b[0m\u001b[0;34m)\u001b[0m\u001b[0;34m\u001b[0m\u001b[0;34m\u001b[0m\u001b[0m\n\u001b[0m",
      "\u001b[0;32m~/.conda/envs/jax_py38/lib/python3.8/site-packages/jax/api.py\u001b[0m in \u001b[0;36mbatched_fun\u001b[0;34m(*args)\u001b[0m\n\u001b[1;32m    756\u001b[0m     \u001b[0min_axes_flat\u001b[0m \u001b[0;34m=\u001b[0m \u001b[0m_flatten_axes\u001b[0m\u001b[0;34m(\u001b[0m\u001b[0min_tree\u001b[0m\u001b[0;34m,\u001b[0m \u001b[0min_axes\u001b[0m\u001b[0;34m)\u001b[0m\u001b[0;34m\u001b[0m\u001b[0;34m\u001b[0m\u001b[0m\n\u001b[1;32m    757\u001b[0m     \u001b[0m_check_axis_sizes\u001b[0m\u001b[0;34m(\u001b[0m\u001b[0min_tree\u001b[0m\u001b[0;34m,\u001b[0m \u001b[0margs_flat\u001b[0m\u001b[0;34m,\u001b[0m \u001b[0min_axes_flat\u001b[0m\u001b[0;34m)\u001b[0m\u001b[0;34m\u001b[0m\u001b[0;34m\u001b[0m\u001b[0m\n\u001b[0;32m--> 758\u001b[0;31m     out_flat = batching.batch(flat_fun, args_flat, in_axes_flat,\n\u001b[0m\u001b[1;32m    759\u001b[0m                               lambda: _flatten_axes(out_tree(), out_axes))\n\u001b[1;32m    760\u001b[0m     \u001b[0;32mreturn\u001b[0m \u001b[0mtree_unflatten\u001b[0m\u001b[0;34m(\u001b[0m\u001b[0mout_tree\u001b[0m\u001b[0;34m(\u001b[0m\u001b[0;34m)\u001b[0m\u001b[0;34m,\u001b[0m \u001b[0mout_flat\u001b[0m\u001b[0;34m)\u001b[0m\u001b[0;34m\u001b[0m\u001b[0;34m\u001b[0m\u001b[0m\n",
      "\u001b[0;32m~/.conda/envs/jax_py38/lib/python3.8/site-packages/jax/interpreters/batching.py\u001b[0m in \u001b[0;36mbatch\u001b[0;34m(fun, in_vals, in_dims, out_dim_dests)\u001b[0m\n\u001b[1;32m     32\u001b[0m   \u001b[0;31m# executes a batched version of `fun` following out_dim_dests\u001b[0m\u001b[0;34m\u001b[0m\u001b[0;34m\u001b[0m\u001b[0;34m\u001b[0m\u001b[0m\n\u001b[1;32m     33\u001b[0m   \u001b[0mbatched_fun\u001b[0m \u001b[0;34m=\u001b[0m \u001b[0mbatch_fun\u001b[0m\u001b[0;34m(\u001b[0m\u001b[0mfun\u001b[0m\u001b[0;34m,\u001b[0m \u001b[0min_dims\u001b[0m\u001b[0;34m,\u001b[0m \u001b[0mout_dim_dests\u001b[0m\u001b[0;34m)\u001b[0m\u001b[0;34m\u001b[0m\u001b[0;34m\u001b[0m\u001b[0m\n\u001b[0;32m---> 34\u001b[0;31m   \u001b[0;32mreturn\u001b[0m \u001b[0mbatched_fun\u001b[0m\u001b[0;34m.\u001b[0m\u001b[0mcall_wrapped\u001b[0m\u001b[0;34m(\u001b[0m\u001b[0;34m*\u001b[0m\u001b[0min_vals\u001b[0m\u001b[0;34m)\u001b[0m\u001b[0;34m\u001b[0m\u001b[0;34m\u001b[0m\u001b[0m\n\u001b[0m\u001b[1;32m     35\u001b[0m \u001b[0;34m\u001b[0m\u001b[0m\n\u001b[1;32m     36\u001b[0m \u001b[0;34m@\u001b[0m\u001b[0mlu\u001b[0m\u001b[0;34m.\u001b[0m\u001b[0mtransformation_with_aux\u001b[0m\u001b[0;34m\u001b[0m\u001b[0;34m\u001b[0m\u001b[0m\n",
      "\u001b[0;32m~/.conda/envs/jax_py38/lib/python3.8/site-packages/jax/linear_util.py\u001b[0m in \u001b[0;36mcall_wrapped\u001b[0;34m(self, *args, **kwargs)\u001b[0m\n\u001b[1;32m    148\u001b[0m     \u001b[0mgen\u001b[0m \u001b[0;34m=\u001b[0m \u001b[0;32mNone\u001b[0m\u001b[0;34m\u001b[0m\u001b[0;34m\u001b[0m\u001b[0m\n\u001b[1;32m    149\u001b[0m \u001b[0;34m\u001b[0m\u001b[0m\n\u001b[0;32m--> 150\u001b[0;31m     \u001b[0mans\u001b[0m \u001b[0;34m=\u001b[0m \u001b[0mself\u001b[0m\u001b[0;34m.\u001b[0m\u001b[0mf\u001b[0m\u001b[0;34m(\u001b[0m\u001b[0;34m*\u001b[0m\u001b[0margs\u001b[0m\u001b[0;34m,\u001b[0m \u001b[0;34m**\u001b[0m\u001b[0mdict\u001b[0m\u001b[0;34m(\u001b[0m\u001b[0mself\u001b[0m\u001b[0;34m.\u001b[0m\u001b[0mparams\u001b[0m\u001b[0;34m,\u001b[0m \u001b[0;34m**\u001b[0m\u001b[0mkwargs\u001b[0m\u001b[0;34m)\u001b[0m\u001b[0;34m)\u001b[0m\u001b[0;34m\u001b[0m\u001b[0;34m\u001b[0m\u001b[0m\n\u001b[0m\u001b[1;32m    151\u001b[0m     \u001b[0;32mdel\u001b[0m \u001b[0margs\u001b[0m\u001b[0;34m\u001b[0m\u001b[0;34m\u001b[0m\u001b[0m\n\u001b[1;32m    152\u001b[0m     \u001b[0;32mwhile\u001b[0m \u001b[0mstack\u001b[0m\u001b[0;34m:\u001b[0m\u001b[0;34m\u001b[0m\u001b[0;34m\u001b[0m\u001b[0m\n",
      "\u001b[0;32m<ipython-input-175-6d9cf91bb78f>\u001b[0m in \u001b[0;36m<lambda>\u001b[0;34m(x1)\u001b[0m\n\u001b[1;32m      1\u001b[0m \u001b[0;31m# Gram Matrix\u001b[0m\u001b[0;34m\u001b[0m\u001b[0;34m\u001b[0m\u001b[0;34m\u001b[0m\u001b[0m\n\u001b[1;32m      2\u001b[0m \u001b[0;32mdef\u001b[0m \u001b[0mgram\u001b[0m\u001b[0;34m(\u001b[0m\u001b[0mfunc\u001b[0m\u001b[0;34m,\u001b[0m \u001b[0mparams\u001b[0m\u001b[0;34m,\u001b[0m \u001b[0mx\u001b[0m\u001b[0;34m,\u001b[0m \u001b[0my\u001b[0m\u001b[0;34m)\u001b[0m\u001b[0;34m:\u001b[0m\u001b[0;34m\u001b[0m\u001b[0;34m\u001b[0m\u001b[0m\n\u001b[0;32m----> 3\u001b[0;31m     \u001b[0;32mreturn\u001b[0m \u001b[0mjax\u001b[0m\u001b[0;34m.\u001b[0m\u001b[0mvmap\u001b[0m\u001b[0;34m(\u001b[0m\u001b[0;32mlambda\u001b[0m \u001b[0mx1\u001b[0m\u001b[0;34m:\u001b[0m \u001b[0mjax\u001b[0m\u001b[0;34m.\u001b[0m\u001b[0mvmap\u001b[0m\u001b[0;34m(\u001b[0m\u001b[0;32mlambda\u001b[0m \u001b[0my1\u001b[0m\u001b[0;34m:\u001b[0m \u001b[0mfunc\u001b[0m\u001b[0;34m(\u001b[0m\u001b[0mparams\u001b[0m\u001b[0;34m,\u001b[0m \u001b[0mx1\u001b[0m\u001b[0;34m,\u001b[0m \u001b[0my1\u001b[0m\u001b[0;34m)\u001b[0m\u001b[0;34m)\u001b[0m\u001b[0;34m(\u001b[0m\u001b[0my\u001b[0m\u001b[0;34m)\u001b[0m\u001b[0;34m)\u001b[0m\u001b[0;34m(\u001b[0m\u001b[0mx\u001b[0m\u001b[0;34m)\u001b[0m\u001b[0;34m\u001b[0m\u001b[0;34m\u001b[0m\u001b[0m\n\u001b[0m",
      "\u001b[0;32m~/.conda/envs/jax_py38/lib/python3.8/site-packages/jax/api.py\u001b[0m in \u001b[0;36mbatched_fun\u001b[0;34m(*args)\u001b[0m\n\u001b[1;32m    756\u001b[0m     \u001b[0min_axes_flat\u001b[0m \u001b[0;34m=\u001b[0m \u001b[0m_flatten_axes\u001b[0m\u001b[0;34m(\u001b[0m\u001b[0min_tree\u001b[0m\u001b[0;34m,\u001b[0m \u001b[0min_axes\u001b[0m\u001b[0;34m)\u001b[0m\u001b[0;34m\u001b[0m\u001b[0;34m\u001b[0m\u001b[0m\n\u001b[1;32m    757\u001b[0m     \u001b[0m_check_axis_sizes\u001b[0m\u001b[0;34m(\u001b[0m\u001b[0min_tree\u001b[0m\u001b[0;34m,\u001b[0m \u001b[0margs_flat\u001b[0m\u001b[0;34m,\u001b[0m \u001b[0min_axes_flat\u001b[0m\u001b[0;34m)\u001b[0m\u001b[0;34m\u001b[0m\u001b[0;34m\u001b[0m\u001b[0m\n\u001b[0;32m--> 758\u001b[0;31m     out_flat = batching.batch(flat_fun, args_flat, in_axes_flat,\n\u001b[0m\u001b[1;32m    759\u001b[0m                               lambda: _flatten_axes(out_tree(), out_axes))\n\u001b[1;32m    760\u001b[0m     \u001b[0;32mreturn\u001b[0m \u001b[0mtree_unflatten\u001b[0m\u001b[0;34m(\u001b[0m\u001b[0mout_tree\u001b[0m\u001b[0;34m(\u001b[0m\u001b[0;34m)\u001b[0m\u001b[0;34m,\u001b[0m \u001b[0mout_flat\u001b[0m\u001b[0;34m)\u001b[0m\u001b[0;34m\u001b[0m\u001b[0;34m\u001b[0m\u001b[0m\n",
      "\u001b[0;32m~/.conda/envs/jax_py38/lib/python3.8/site-packages/jax/interpreters/batching.py\u001b[0m in \u001b[0;36mbatch\u001b[0;34m(fun, in_vals, in_dims, out_dim_dests)\u001b[0m\n\u001b[1;32m     32\u001b[0m   \u001b[0;31m# executes a batched version of `fun` following out_dim_dests\u001b[0m\u001b[0;34m\u001b[0m\u001b[0;34m\u001b[0m\u001b[0;34m\u001b[0m\u001b[0m\n\u001b[1;32m     33\u001b[0m   \u001b[0mbatched_fun\u001b[0m \u001b[0;34m=\u001b[0m \u001b[0mbatch_fun\u001b[0m\u001b[0;34m(\u001b[0m\u001b[0mfun\u001b[0m\u001b[0;34m,\u001b[0m \u001b[0min_dims\u001b[0m\u001b[0;34m,\u001b[0m \u001b[0mout_dim_dests\u001b[0m\u001b[0;34m)\u001b[0m\u001b[0;34m\u001b[0m\u001b[0;34m\u001b[0m\u001b[0m\n\u001b[0;32m---> 34\u001b[0;31m   \u001b[0;32mreturn\u001b[0m \u001b[0mbatched_fun\u001b[0m\u001b[0;34m.\u001b[0m\u001b[0mcall_wrapped\u001b[0m\u001b[0;34m(\u001b[0m\u001b[0;34m*\u001b[0m\u001b[0min_vals\u001b[0m\u001b[0;34m)\u001b[0m\u001b[0;34m\u001b[0m\u001b[0;34m\u001b[0m\u001b[0m\n\u001b[0m\u001b[1;32m     35\u001b[0m \u001b[0;34m\u001b[0m\u001b[0m\n\u001b[1;32m     36\u001b[0m \u001b[0;34m@\u001b[0m\u001b[0mlu\u001b[0m\u001b[0;34m.\u001b[0m\u001b[0mtransformation_with_aux\u001b[0m\u001b[0;34m\u001b[0m\u001b[0;34m\u001b[0m\u001b[0m\n",
      "\u001b[0;32m~/.conda/envs/jax_py38/lib/python3.8/site-packages/jax/linear_util.py\u001b[0m in \u001b[0;36mcall_wrapped\u001b[0;34m(self, *args, **kwargs)\u001b[0m\n\u001b[1;32m    148\u001b[0m     \u001b[0mgen\u001b[0m \u001b[0;34m=\u001b[0m \u001b[0;32mNone\u001b[0m\u001b[0;34m\u001b[0m\u001b[0;34m\u001b[0m\u001b[0m\n\u001b[1;32m    149\u001b[0m \u001b[0;34m\u001b[0m\u001b[0m\n\u001b[0;32m--> 150\u001b[0;31m     \u001b[0mans\u001b[0m \u001b[0;34m=\u001b[0m \u001b[0mself\u001b[0m\u001b[0;34m.\u001b[0m\u001b[0mf\u001b[0m\u001b[0;34m(\u001b[0m\u001b[0;34m*\u001b[0m\u001b[0margs\u001b[0m\u001b[0;34m,\u001b[0m \u001b[0;34m**\u001b[0m\u001b[0mdict\u001b[0m\u001b[0;34m(\u001b[0m\u001b[0mself\u001b[0m\u001b[0;34m.\u001b[0m\u001b[0mparams\u001b[0m\u001b[0;34m,\u001b[0m \u001b[0;34m**\u001b[0m\u001b[0mkwargs\u001b[0m\u001b[0;34m)\u001b[0m\u001b[0;34m)\u001b[0m\u001b[0;34m\u001b[0m\u001b[0;34m\u001b[0m\u001b[0m\n\u001b[0m\u001b[1;32m    151\u001b[0m     \u001b[0;32mdel\u001b[0m \u001b[0margs\u001b[0m\u001b[0;34m\u001b[0m\u001b[0;34m\u001b[0m\u001b[0m\n\u001b[1;32m    152\u001b[0m     \u001b[0;32mwhile\u001b[0m \u001b[0mstack\u001b[0m\u001b[0;34m:\u001b[0m\u001b[0;34m\u001b[0m\u001b[0;34m\u001b[0m\u001b[0m\n",
      "\u001b[0;32m<ipython-input-175-6d9cf91bb78f>\u001b[0m in \u001b[0;36m<lambda>\u001b[0;34m(y1)\u001b[0m\n\u001b[1;32m      1\u001b[0m \u001b[0;31m# Gram Matrix\u001b[0m\u001b[0;34m\u001b[0m\u001b[0;34m\u001b[0m\u001b[0;34m\u001b[0m\u001b[0m\n\u001b[1;32m      2\u001b[0m \u001b[0;32mdef\u001b[0m \u001b[0mgram\u001b[0m\u001b[0;34m(\u001b[0m\u001b[0mfunc\u001b[0m\u001b[0;34m,\u001b[0m \u001b[0mparams\u001b[0m\u001b[0;34m,\u001b[0m \u001b[0mx\u001b[0m\u001b[0;34m,\u001b[0m \u001b[0my\u001b[0m\u001b[0;34m)\u001b[0m\u001b[0;34m:\u001b[0m\u001b[0;34m\u001b[0m\u001b[0;34m\u001b[0m\u001b[0m\n\u001b[0;32m----> 3\u001b[0;31m     \u001b[0;32mreturn\u001b[0m \u001b[0mjax\u001b[0m\u001b[0;34m.\u001b[0m\u001b[0mvmap\u001b[0m\u001b[0;34m(\u001b[0m\u001b[0;32mlambda\u001b[0m \u001b[0mx1\u001b[0m\u001b[0;34m:\u001b[0m \u001b[0mjax\u001b[0m\u001b[0;34m.\u001b[0m\u001b[0mvmap\u001b[0m\u001b[0;34m(\u001b[0m\u001b[0;32mlambda\u001b[0m \u001b[0my1\u001b[0m\u001b[0;34m:\u001b[0m \u001b[0mfunc\u001b[0m\u001b[0;34m(\u001b[0m\u001b[0mparams\u001b[0m\u001b[0;34m,\u001b[0m \u001b[0mx1\u001b[0m\u001b[0;34m,\u001b[0m \u001b[0my1\u001b[0m\u001b[0;34m)\u001b[0m\u001b[0;34m)\u001b[0m\u001b[0;34m(\u001b[0m\u001b[0my\u001b[0m\u001b[0;34m)\u001b[0m\u001b[0;34m)\u001b[0m\u001b[0;34m(\u001b[0m\u001b[0mx\u001b[0m\u001b[0;34m)\u001b[0m\u001b[0;34m\u001b[0m\u001b[0;34m\u001b[0m\u001b[0m\n\u001b[0m",
      "\u001b[0;32m<ipython-input-173-a1a5400824ce>\u001b[0m in \u001b[0;36mrbf_kernel\u001b[0;34m(params, x, y)\u001b[0m\n\u001b[1;32m      7\u001b[0m \u001b[0;31m# @jax.jit\u001b[0m\u001b[0;34m\u001b[0m\u001b[0;34m\u001b[0m\u001b[0;34m\u001b[0m\u001b[0m\n\u001b[1;32m      8\u001b[0m \u001b[0;32mdef\u001b[0m \u001b[0mrbf_kernel\u001b[0m\u001b[0;34m(\u001b[0m\u001b[0mparams\u001b[0m\u001b[0;34m,\u001b[0m \u001b[0mx\u001b[0m\u001b[0;34m,\u001b[0m \u001b[0my\u001b[0m\u001b[0;34m)\u001b[0m\u001b[0;34m:\u001b[0m\u001b[0;34m\u001b[0m\u001b[0;34m\u001b[0m\u001b[0m\n\u001b[0;32m----> 9\u001b[0;31m     \u001b[0;32mreturn\u001b[0m \u001b[0mjnp\u001b[0m\u001b[0;34m.\u001b[0m\u001b[0mexp\u001b[0m\u001b[0;34m(\u001b[0m \u001b[0;34m-\u001b[0m \u001b[0mparams\u001b[0m\u001b[0;34m[\u001b[0m\u001b[0;34m'gamma'\u001b[0m\u001b[0;34m]\u001b[0m \u001b[0;34m*\u001b[0m \u001b[0msqeuclidean_distance\u001b[0m\u001b[0;34m(\u001b[0m\u001b[0mx\u001b[0m\u001b[0;34m,\u001b[0m \u001b[0my\u001b[0m\u001b[0;34m)\u001b[0m\u001b[0;34m)\u001b[0m\u001b[0;34m\u001b[0m\u001b[0;34m\u001b[0m\u001b[0m\n\u001b[0m\u001b[1;32m     10\u001b[0m \u001b[0;34m\u001b[0m\u001b[0m\n\u001b[1;32m     11\u001b[0m \u001b[0;31m# ARD Kernel\u001b[0m\u001b[0;34m\u001b[0m\u001b[0;34m\u001b[0m\u001b[0;34m\u001b[0m\u001b[0m\n",
      "\u001b[0;31mKeyError\u001b[0m: 'gamma'"
     ]
    }
   ],
   "source": [
    "mu_x, cov_x = gp_prior(params, mu_f=mu_f, cov_f=cov_f , x=test_X)\n",
    "\n",
    "# make it semi-positive definite with jitter\n",
    "jitter = 1e-6\n",
    "cov_x_ = cov_x + jitter * np.eye(cov_x.shape[0])\n",
    "\n",
    "# draw random samples from distribution\n",
    "n_functions = 10\n",
    "y_samples = scio_mvn.rvs(mean=mu_x, cov=cov_x_ , size=n_functions)\n",
    "\n",
    "print(y_samples.shape)\n",
    "for isample in y_samples:\n",
    "    plt.plot(isample)"
   ]
  },
  {
   "cell_type": "markdown",
   "metadata": {},
   "source": [
    "And now we don't have that message. This is a small thing but it's super important and can lead to errors in the optimization if not addressed."
   ]
  },
  {
   "cell_type": "markdown",
   "metadata": {},
   "source": [
    "#### Jax"
   ]
  },
  {
   "cell_type": "code",
   "execution_count": 184,
   "metadata": {},
   "outputs": [
    {
     "ename": "KeyError",
     "evalue": "'gamma'",
     "output_type": "error",
     "traceback": [
      "\u001b[0;31m---------------------------------------------------------------------------\u001b[0m",
      "\u001b[0;31mKeyError\u001b[0m                                  Traceback (most recent call last)",
      "\u001b[0;32m<ipython-input-184-9b06421fbf35>\u001b[0m in \u001b[0;36m<module>\u001b[0;34m\u001b[0m\n\u001b[1;32m      9\u001b[0m \u001b[0mtest_X\u001b[0m \u001b[0;34m=\u001b[0m \u001b[0mX\u001b[0m\u001b[0;34m[\u001b[0m\u001b[0;34m:\u001b[0m\u001b[0mn_samples\u001b[0m\u001b[0;34m,\u001b[0m \u001b[0;34m:\u001b[0m\u001b[0;34m]\u001b[0m\u001b[0;34m.\u001b[0m\u001b[0mcopy\u001b[0m\u001b[0;34m(\u001b[0m\u001b[0;34m)\u001b[0m \u001b[0;31m# random samples from distribution\u001b[0m\u001b[0;34m\u001b[0m\u001b[0;34m\u001b[0m\u001b[0m\n\u001b[1;32m     10\u001b[0m \u001b[0;34m\u001b[0m\u001b[0m\n\u001b[0;32m---> 11\u001b[0;31m \u001b[0mmu_x\u001b[0m\u001b[0;34m,\u001b[0m \u001b[0mcov_x\u001b[0m \u001b[0;34m=\u001b[0m \u001b[0mgp_prior\u001b[0m\u001b[0;34m(\u001b[0m\u001b[0mparams\u001b[0m\u001b[0;34m,\u001b[0m \u001b[0mmu_f\u001b[0m\u001b[0;34m=\u001b[0m\u001b[0mmu_f\u001b[0m\u001b[0;34m,\u001b[0m \u001b[0mcov_f\u001b[0m\u001b[0;34m=\u001b[0m\u001b[0mcov_f\u001b[0m \u001b[0;34m,\u001b[0m \u001b[0mx\u001b[0m\u001b[0;34m=\u001b[0m\u001b[0mtest_X\u001b[0m\u001b[0;34m)\u001b[0m\u001b[0;34m\u001b[0m\u001b[0;34m\u001b[0m\u001b[0m\n\u001b[0m\u001b[1;32m     12\u001b[0m \u001b[0;34m\u001b[0m\u001b[0m\n\u001b[1;32m     13\u001b[0m \u001b[0;31m# make it semi-positive definite with jitter\u001b[0m\u001b[0;34m\u001b[0m\u001b[0;34m\u001b[0m\u001b[0;34m\u001b[0m\u001b[0m\n",
      "\u001b[0;32m<ipython-input-178-5213747816ca>\u001b[0m in \u001b[0;36mgp_prior\u001b[0;34m(params, mu_f, cov_f, x)\u001b[0m\n\u001b[1;32m      1\u001b[0m \u001b[0;32mdef\u001b[0m \u001b[0mgp_prior\u001b[0m\u001b[0;34m(\u001b[0m\u001b[0mparams\u001b[0m\u001b[0;34m,\u001b[0m \u001b[0mmu_f\u001b[0m\u001b[0;34m,\u001b[0m \u001b[0mcov_f\u001b[0m\u001b[0;34m,\u001b[0m \u001b[0mx\u001b[0m\u001b[0;34m)\u001b[0m\u001b[0;34m:\u001b[0m\u001b[0;34m\u001b[0m\u001b[0;34m\u001b[0m\u001b[0m\n\u001b[0;32m----> 2\u001b[0;31m     \u001b[0;32mreturn\u001b[0m \u001b[0mmu_f\u001b[0m\u001b[0;34m(\u001b[0m\u001b[0mx\u001b[0m\u001b[0;34m)\u001b[0m \u001b[0;34m,\u001b[0m \u001b[0mcov_f\u001b[0m\u001b[0;34m(\u001b[0m\u001b[0mparams\u001b[0m\u001b[0;34m,\u001b[0m \u001b[0mx\u001b[0m\u001b[0;34m,\u001b[0m \u001b[0mx\u001b[0m\u001b[0;34m)\u001b[0m\u001b[0;34m\u001b[0m\u001b[0;34m\u001b[0m\u001b[0m\n\u001b[0m",
      "\u001b[0;32m<ipython-input-175-6d9cf91bb78f>\u001b[0m in \u001b[0;36mgram\u001b[0;34m(func, params, x, y)\u001b[0m\n\u001b[1;32m      1\u001b[0m \u001b[0;31m# Gram Matrix\u001b[0m\u001b[0;34m\u001b[0m\u001b[0;34m\u001b[0m\u001b[0;34m\u001b[0m\u001b[0m\n\u001b[1;32m      2\u001b[0m \u001b[0;32mdef\u001b[0m \u001b[0mgram\u001b[0m\u001b[0;34m(\u001b[0m\u001b[0mfunc\u001b[0m\u001b[0;34m,\u001b[0m \u001b[0mparams\u001b[0m\u001b[0;34m,\u001b[0m \u001b[0mx\u001b[0m\u001b[0;34m,\u001b[0m \u001b[0my\u001b[0m\u001b[0;34m)\u001b[0m\u001b[0;34m:\u001b[0m\u001b[0;34m\u001b[0m\u001b[0;34m\u001b[0m\u001b[0m\n\u001b[0;32m----> 3\u001b[0;31m     \u001b[0;32mreturn\u001b[0m \u001b[0mjax\u001b[0m\u001b[0;34m.\u001b[0m\u001b[0mvmap\u001b[0m\u001b[0;34m(\u001b[0m\u001b[0;32mlambda\u001b[0m \u001b[0mx1\u001b[0m\u001b[0;34m:\u001b[0m \u001b[0mjax\u001b[0m\u001b[0;34m.\u001b[0m\u001b[0mvmap\u001b[0m\u001b[0;34m(\u001b[0m\u001b[0;32mlambda\u001b[0m \u001b[0my1\u001b[0m\u001b[0;34m:\u001b[0m \u001b[0mfunc\u001b[0m\u001b[0;34m(\u001b[0m\u001b[0mparams\u001b[0m\u001b[0;34m,\u001b[0m \u001b[0mx1\u001b[0m\u001b[0;34m,\u001b[0m \u001b[0my1\u001b[0m\u001b[0;34m)\u001b[0m\u001b[0;34m)\u001b[0m\u001b[0;34m(\u001b[0m\u001b[0my\u001b[0m\u001b[0;34m)\u001b[0m\u001b[0;34m)\u001b[0m\u001b[0;34m(\u001b[0m\u001b[0mx\u001b[0m\u001b[0;34m)\u001b[0m\u001b[0;34m\u001b[0m\u001b[0;34m\u001b[0m\u001b[0m\n\u001b[0m",
      "\u001b[0;32m~/.conda/envs/jax_py38/lib/python3.8/site-packages/jax/api.py\u001b[0m in \u001b[0;36mbatched_fun\u001b[0;34m(*args)\u001b[0m\n\u001b[1;32m    756\u001b[0m     \u001b[0min_axes_flat\u001b[0m \u001b[0;34m=\u001b[0m \u001b[0m_flatten_axes\u001b[0m\u001b[0;34m(\u001b[0m\u001b[0min_tree\u001b[0m\u001b[0;34m,\u001b[0m \u001b[0min_axes\u001b[0m\u001b[0;34m)\u001b[0m\u001b[0;34m\u001b[0m\u001b[0;34m\u001b[0m\u001b[0m\n\u001b[1;32m    757\u001b[0m     \u001b[0m_check_axis_sizes\u001b[0m\u001b[0;34m(\u001b[0m\u001b[0min_tree\u001b[0m\u001b[0;34m,\u001b[0m \u001b[0margs_flat\u001b[0m\u001b[0;34m,\u001b[0m \u001b[0min_axes_flat\u001b[0m\u001b[0;34m)\u001b[0m\u001b[0;34m\u001b[0m\u001b[0;34m\u001b[0m\u001b[0m\n\u001b[0;32m--> 758\u001b[0;31m     out_flat = batching.batch(flat_fun, args_flat, in_axes_flat,\n\u001b[0m\u001b[1;32m    759\u001b[0m                               lambda: _flatten_axes(out_tree(), out_axes))\n\u001b[1;32m    760\u001b[0m     \u001b[0;32mreturn\u001b[0m \u001b[0mtree_unflatten\u001b[0m\u001b[0;34m(\u001b[0m\u001b[0mout_tree\u001b[0m\u001b[0;34m(\u001b[0m\u001b[0;34m)\u001b[0m\u001b[0;34m,\u001b[0m \u001b[0mout_flat\u001b[0m\u001b[0;34m)\u001b[0m\u001b[0;34m\u001b[0m\u001b[0;34m\u001b[0m\u001b[0m\n",
      "\u001b[0;32m~/.conda/envs/jax_py38/lib/python3.8/site-packages/jax/interpreters/batching.py\u001b[0m in \u001b[0;36mbatch\u001b[0;34m(fun, in_vals, in_dims, out_dim_dests)\u001b[0m\n\u001b[1;32m     32\u001b[0m   \u001b[0;31m# executes a batched version of `fun` following out_dim_dests\u001b[0m\u001b[0;34m\u001b[0m\u001b[0;34m\u001b[0m\u001b[0;34m\u001b[0m\u001b[0m\n\u001b[1;32m     33\u001b[0m   \u001b[0mbatched_fun\u001b[0m \u001b[0;34m=\u001b[0m \u001b[0mbatch_fun\u001b[0m\u001b[0;34m(\u001b[0m\u001b[0mfun\u001b[0m\u001b[0;34m,\u001b[0m \u001b[0min_dims\u001b[0m\u001b[0;34m,\u001b[0m \u001b[0mout_dim_dests\u001b[0m\u001b[0;34m)\u001b[0m\u001b[0;34m\u001b[0m\u001b[0;34m\u001b[0m\u001b[0m\n\u001b[0;32m---> 34\u001b[0;31m   \u001b[0;32mreturn\u001b[0m \u001b[0mbatched_fun\u001b[0m\u001b[0;34m.\u001b[0m\u001b[0mcall_wrapped\u001b[0m\u001b[0;34m(\u001b[0m\u001b[0;34m*\u001b[0m\u001b[0min_vals\u001b[0m\u001b[0;34m)\u001b[0m\u001b[0;34m\u001b[0m\u001b[0;34m\u001b[0m\u001b[0m\n\u001b[0m\u001b[1;32m     35\u001b[0m \u001b[0;34m\u001b[0m\u001b[0m\n\u001b[1;32m     36\u001b[0m \u001b[0;34m@\u001b[0m\u001b[0mlu\u001b[0m\u001b[0;34m.\u001b[0m\u001b[0mtransformation_with_aux\u001b[0m\u001b[0;34m\u001b[0m\u001b[0;34m\u001b[0m\u001b[0m\n",
      "\u001b[0;32m~/.conda/envs/jax_py38/lib/python3.8/site-packages/jax/linear_util.py\u001b[0m in \u001b[0;36mcall_wrapped\u001b[0;34m(self, *args, **kwargs)\u001b[0m\n\u001b[1;32m    148\u001b[0m     \u001b[0mgen\u001b[0m \u001b[0;34m=\u001b[0m \u001b[0;32mNone\u001b[0m\u001b[0;34m\u001b[0m\u001b[0;34m\u001b[0m\u001b[0m\n\u001b[1;32m    149\u001b[0m \u001b[0;34m\u001b[0m\u001b[0m\n\u001b[0;32m--> 150\u001b[0;31m     \u001b[0mans\u001b[0m \u001b[0;34m=\u001b[0m \u001b[0mself\u001b[0m\u001b[0;34m.\u001b[0m\u001b[0mf\u001b[0m\u001b[0;34m(\u001b[0m\u001b[0;34m*\u001b[0m\u001b[0margs\u001b[0m\u001b[0;34m,\u001b[0m \u001b[0;34m**\u001b[0m\u001b[0mdict\u001b[0m\u001b[0;34m(\u001b[0m\u001b[0mself\u001b[0m\u001b[0;34m.\u001b[0m\u001b[0mparams\u001b[0m\u001b[0;34m,\u001b[0m \u001b[0;34m**\u001b[0m\u001b[0mkwargs\u001b[0m\u001b[0;34m)\u001b[0m\u001b[0;34m)\u001b[0m\u001b[0;34m\u001b[0m\u001b[0;34m\u001b[0m\u001b[0m\n\u001b[0m\u001b[1;32m    151\u001b[0m     \u001b[0;32mdel\u001b[0m \u001b[0margs\u001b[0m\u001b[0;34m\u001b[0m\u001b[0;34m\u001b[0m\u001b[0m\n\u001b[1;32m    152\u001b[0m     \u001b[0;32mwhile\u001b[0m \u001b[0mstack\u001b[0m\u001b[0;34m:\u001b[0m\u001b[0;34m\u001b[0m\u001b[0;34m\u001b[0m\u001b[0m\n",
      "\u001b[0;32m<ipython-input-175-6d9cf91bb78f>\u001b[0m in \u001b[0;36m<lambda>\u001b[0;34m(x1)\u001b[0m\n\u001b[1;32m      1\u001b[0m \u001b[0;31m# Gram Matrix\u001b[0m\u001b[0;34m\u001b[0m\u001b[0;34m\u001b[0m\u001b[0;34m\u001b[0m\u001b[0m\n\u001b[1;32m      2\u001b[0m \u001b[0;32mdef\u001b[0m \u001b[0mgram\u001b[0m\u001b[0;34m(\u001b[0m\u001b[0mfunc\u001b[0m\u001b[0;34m,\u001b[0m \u001b[0mparams\u001b[0m\u001b[0;34m,\u001b[0m \u001b[0mx\u001b[0m\u001b[0;34m,\u001b[0m \u001b[0my\u001b[0m\u001b[0;34m)\u001b[0m\u001b[0;34m:\u001b[0m\u001b[0;34m\u001b[0m\u001b[0;34m\u001b[0m\u001b[0m\n\u001b[0;32m----> 3\u001b[0;31m     \u001b[0;32mreturn\u001b[0m \u001b[0mjax\u001b[0m\u001b[0;34m.\u001b[0m\u001b[0mvmap\u001b[0m\u001b[0;34m(\u001b[0m\u001b[0;32mlambda\u001b[0m \u001b[0mx1\u001b[0m\u001b[0;34m:\u001b[0m \u001b[0mjax\u001b[0m\u001b[0;34m.\u001b[0m\u001b[0mvmap\u001b[0m\u001b[0;34m(\u001b[0m\u001b[0;32mlambda\u001b[0m \u001b[0my1\u001b[0m\u001b[0;34m:\u001b[0m \u001b[0mfunc\u001b[0m\u001b[0;34m(\u001b[0m\u001b[0mparams\u001b[0m\u001b[0;34m,\u001b[0m \u001b[0mx1\u001b[0m\u001b[0;34m,\u001b[0m \u001b[0my1\u001b[0m\u001b[0;34m)\u001b[0m\u001b[0;34m)\u001b[0m\u001b[0;34m(\u001b[0m\u001b[0my\u001b[0m\u001b[0;34m)\u001b[0m\u001b[0;34m)\u001b[0m\u001b[0;34m(\u001b[0m\u001b[0mx\u001b[0m\u001b[0;34m)\u001b[0m\u001b[0;34m\u001b[0m\u001b[0;34m\u001b[0m\u001b[0m\n\u001b[0m",
      "\u001b[0;32m~/.conda/envs/jax_py38/lib/python3.8/site-packages/jax/api.py\u001b[0m in \u001b[0;36mbatched_fun\u001b[0;34m(*args)\u001b[0m\n\u001b[1;32m    756\u001b[0m     \u001b[0min_axes_flat\u001b[0m \u001b[0;34m=\u001b[0m \u001b[0m_flatten_axes\u001b[0m\u001b[0;34m(\u001b[0m\u001b[0min_tree\u001b[0m\u001b[0;34m,\u001b[0m \u001b[0min_axes\u001b[0m\u001b[0;34m)\u001b[0m\u001b[0;34m\u001b[0m\u001b[0;34m\u001b[0m\u001b[0m\n\u001b[1;32m    757\u001b[0m     \u001b[0m_check_axis_sizes\u001b[0m\u001b[0;34m(\u001b[0m\u001b[0min_tree\u001b[0m\u001b[0;34m,\u001b[0m \u001b[0margs_flat\u001b[0m\u001b[0;34m,\u001b[0m \u001b[0min_axes_flat\u001b[0m\u001b[0;34m)\u001b[0m\u001b[0;34m\u001b[0m\u001b[0;34m\u001b[0m\u001b[0m\n\u001b[0;32m--> 758\u001b[0;31m     out_flat = batching.batch(flat_fun, args_flat, in_axes_flat,\n\u001b[0m\u001b[1;32m    759\u001b[0m                               lambda: _flatten_axes(out_tree(), out_axes))\n\u001b[1;32m    760\u001b[0m     \u001b[0;32mreturn\u001b[0m \u001b[0mtree_unflatten\u001b[0m\u001b[0;34m(\u001b[0m\u001b[0mout_tree\u001b[0m\u001b[0;34m(\u001b[0m\u001b[0;34m)\u001b[0m\u001b[0;34m,\u001b[0m \u001b[0mout_flat\u001b[0m\u001b[0;34m)\u001b[0m\u001b[0;34m\u001b[0m\u001b[0;34m\u001b[0m\u001b[0m\n",
      "\u001b[0;32m~/.conda/envs/jax_py38/lib/python3.8/site-packages/jax/interpreters/batching.py\u001b[0m in \u001b[0;36mbatch\u001b[0;34m(fun, in_vals, in_dims, out_dim_dests)\u001b[0m\n\u001b[1;32m     32\u001b[0m   \u001b[0;31m# executes a batched version of `fun` following out_dim_dests\u001b[0m\u001b[0;34m\u001b[0m\u001b[0;34m\u001b[0m\u001b[0;34m\u001b[0m\u001b[0m\n\u001b[1;32m     33\u001b[0m   \u001b[0mbatched_fun\u001b[0m \u001b[0;34m=\u001b[0m \u001b[0mbatch_fun\u001b[0m\u001b[0;34m(\u001b[0m\u001b[0mfun\u001b[0m\u001b[0;34m,\u001b[0m \u001b[0min_dims\u001b[0m\u001b[0;34m,\u001b[0m \u001b[0mout_dim_dests\u001b[0m\u001b[0;34m)\u001b[0m\u001b[0;34m\u001b[0m\u001b[0;34m\u001b[0m\u001b[0m\n\u001b[0;32m---> 34\u001b[0;31m   \u001b[0;32mreturn\u001b[0m \u001b[0mbatched_fun\u001b[0m\u001b[0;34m.\u001b[0m\u001b[0mcall_wrapped\u001b[0m\u001b[0;34m(\u001b[0m\u001b[0;34m*\u001b[0m\u001b[0min_vals\u001b[0m\u001b[0;34m)\u001b[0m\u001b[0;34m\u001b[0m\u001b[0;34m\u001b[0m\u001b[0m\n\u001b[0m\u001b[1;32m     35\u001b[0m \u001b[0;34m\u001b[0m\u001b[0m\n\u001b[1;32m     36\u001b[0m \u001b[0;34m@\u001b[0m\u001b[0mlu\u001b[0m\u001b[0;34m.\u001b[0m\u001b[0mtransformation_with_aux\u001b[0m\u001b[0;34m\u001b[0m\u001b[0;34m\u001b[0m\u001b[0m\n",
      "\u001b[0;32m~/.conda/envs/jax_py38/lib/python3.8/site-packages/jax/linear_util.py\u001b[0m in \u001b[0;36mcall_wrapped\u001b[0;34m(self, *args, **kwargs)\u001b[0m\n\u001b[1;32m    148\u001b[0m     \u001b[0mgen\u001b[0m \u001b[0;34m=\u001b[0m \u001b[0;32mNone\u001b[0m\u001b[0;34m\u001b[0m\u001b[0;34m\u001b[0m\u001b[0m\n\u001b[1;32m    149\u001b[0m \u001b[0;34m\u001b[0m\u001b[0m\n\u001b[0;32m--> 150\u001b[0;31m     \u001b[0mans\u001b[0m \u001b[0;34m=\u001b[0m \u001b[0mself\u001b[0m\u001b[0;34m.\u001b[0m\u001b[0mf\u001b[0m\u001b[0;34m(\u001b[0m\u001b[0;34m*\u001b[0m\u001b[0margs\u001b[0m\u001b[0;34m,\u001b[0m \u001b[0;34m**\u001b[0m\u001b[0mdict\u001b[0m\u001b[0;34m(\u001b[0m\u001b[0mself\u001b[0m\u001b[0;34m.\u001b[0m\u001b[0mparams\u001b[0m\u001b[0;34m,\u001b[0m \u001b[0;34m**\u001b[0m\u001b[0mkwargs\u001b[0m\u001b[0;34m)\u001b[0m\u001b[0;34m)\u001b[0m\u001b[0;34m\u001b[0m\u001b[0;34m\u001b[0m\u001b[0m\n\u001b[0m\u001b[1;32m    151\u001b[0m     \u001b[0;32mdel\u001b[0m \u001b[0margs\u001b[0m\u001b[0;34m\u001b[0m\u001b[0;34m\u001b[0m\u001b[0m\n\u001b[1;32m    152\u001b[0m     \u001b[0;32mwhile\u001b[0m \u001b[0mstack\u001b[0m\u001b[0;34m:\u001b[0m\u001b[0;34m\u001b[0m\u001b[0;34m\u001b[0m\u001b[0m\n",
      "\u001b[0;32m<ipython-input-175-6d9cf91bb78f>\u001b[0m in \u001b[0;36m<lambda>\u001b[0;34m(y1)\u001b[0m\n\u001b[1;32m      1\u001b[0m \u001b[0;31m# Gram Matrix\u001b[0m\u001b[0;34m\u001b[0m\u001b[0;34m\u001b[0m\u001b[0;34m\u001b[0m\u001b[0m\n\u001b[1;32m      2\u001b[0m \u001b[0;32mdef\u001b[0m \u001b[0mgram\u001b[0m\u001b[0;34m(\u001b[0m\u001b[0mfunc\u001b[0m\u001b[0;34m,\u001b[0m \u001b[0mparams\u001b[0m\u001b[0;34m,\u001b[0m \u001b[0mx\u001b[0m\u001b[0;34m,\u001b[0m \u001b[0my\u001b[0m\u001b[0;34m)\u001b[0m\u001b[0;34m:\u001b[0m\u001b[0;34m\u001b[0m\u001b[0;34m\u001b[0m\u001b[0m\n\u001b[0;32m----> 3\u001b[0;31m     \u001b[0;32mreturn\u001b[0m \u001b[0mjax\u001b[0m\u001b[0;34m.\u001b[0m\u001b[0mvmap\u001b[0m\u001b[0;34m(\u001b[0m\u001b[0;32mlambda\u001b[0m \u001b[0mx1\u001b[0m\u001b[0;34m:\u001b[0m \u001b[0mjax\u001b[0m\u001b[0;34m.\u001b[0m\u001b[0mvmap\u001b[0m\u001b[0;34m(\u001b[0m\u001b[0;32mlambda\u001b[0m \u001b[0my1\u001b[0m\u001b[0;34m:\u001b[0m \u001b[0mfunc\u001b[0m\u001b[0;34m(\u001b[0m\u001b[0mparams\u001b[0m\u001b[0;34m,\u001b[0m \u001b[0mx1\u001b[0m\u001b[0;34m,\u001b[0m \u001b[0my1\u001b[0m\u001b[0;34m)\u001b[0m\u001b[0;34m)\u001b[0m\u001b[0;34m(\u001b[0m\u001b[0my\u001b[0m\u001b[0;34m)\u001b[0m\u001b[0;34m)\u001b[0m\u001b[0;34m(\u001b[0m\u001b[0mx\u001b[0m\u001b[0;34m)\u001b[0m\u001b[0;34m\u001b[0m\u001b[0;34m\u001b[0m\u001b[0m\n\u001b[0m",
      "\u001b[0;32m<ipython-input-173-a1a5400824ce>\u001b[0m in \u001b[0;36mrbf_kernel\u001b[0;34m(params, x, y)\u001b[0m\n\u001b[1;32m      7\u001b[0m \u001b[0;31m# @jax.jit\u001b[0m\u001b[0;34m\u001b[0m\u001b[0;34m\u001b[0m\u001b[0;34m\u001b[0m\u001b[0m\n\u001b[1;32m      8\u001b[0m \u001b[0;32mdef\u001b[0m \u001b[0mrbf_kernel\u001b[0m\u001b[0;34m(\u001b[0m\u001b[0mparams\u001b[0m\u001b[0;34m,\u001b[0m \u001b[0mx\u001b[0m\u001b[0;34m,\u001b[0m \u001b[0my\u001b[0m\u001b[0;34m)\u001b[0m\u001b[0;34m:\u001b[0m\u001b[0;34m\u001b[0m\u001b[0;34m\u001b[0m\u001b[0m\n\u001b[0;32m----> 9\u001b[0;31m     \u001b[0;32mreturn\u001b[0m \u001b[0mjnp\u001b[0m\u001b[0;34m.\u001b[0m\u001b[0mexp\u001b[0m\u001b[0;34m(\u001b[0m \u001b[0;34m-\u001b[0m \u001b[0mparams\u001b[0m\u001b[0;34m[\u001b[0m\u001b[0;34m'gamma'\u001b[0m\u001b[0;34m]\u001b[0m \u001b[0;34m*\u001b[0m \u001b[0msqeuclidean_distance\u001b[0m\u001b[0;34m(\u001b[0m\u001b[0mx\u001b[0m\u001b[0;34m,\u001b[0m \u001b[0my\u001b[0m\u001b[0;34m)\u001b[0m\u001b[0;34m)\u001b[0m\u001b[0;34m\u001b[0m\u001b[0;34m\u001b[0m\u001b[0m\n\u001b[0m\u001b[1;32m     10\u001b[0m \u001b[0;34m\u001b[0m\u001b[0m\n\u001b[1;32m     11\u001b[0m \u001b[0;31m# ARD Kernel\u001b[0m\u001b[0;34m\u001b[0m\u001b[0;34m\u001b[0m\u001b[0;34m\u001b[0m\u001b[0m\n",
      "\u001b[0;31mKeyError\u001b[0m: 'gamma'"
     ]
    }
   ],
   "source": [
    "# checks - 1 vector (D)\n",
    "params = {\n",
    "    'length_scale': 0.1, \n",
    "    'var_f': 1.0, \n",
    "}\n",
    "\n",
    "\n",
    "n_samples = 10                   # condition on 3 samples \n",
    "test_X = X[:n_samples, :].copy() # random samples from distribution\n",
    "\n",
    "mu_x, cov_x = gp_prior(params, mu_f=mu_f, cov_f=cov_f , x=test_X)\n",
    "\n",
    "# make it semi-positive definite with jitter\n",
    "jitter = 1e-6\n",
    "cov_x_ = cov_x + jitter * jnp.eye(cov_x.shape[0])\n",
    "\n",
    "\n",
    "n_functions = 10\n",
    "\n",
    "key = jax.random.PRNGKey(0)\n",
    "\n",
    "y_samples = jax.random.multivariate_normal(key, mu_x, cov_x_, shape=(n_functions,))\n",
    "\n",
    "# check\n",
    "assert y_samples.shape == (n_functions, n_samples)\n",
    "\n",
    "for isample in y_samples:\n",
    "    plt.plot(isample)"
   ]
  },
  {
   "cell_type": "markdown",
   "metadata": {},
   "source": [
    "## 4. Posterior\n",
    "\n",
    "Conditioned on the observations, can we make predictions."
   ]
  },
  {
   "cell_type": "code",
   "execution_count": 12,
   "metadata": {},
   "outputs": [],
   "source": [
    "def gp_prior(params, mu_f, cov_f, x):\n",
    "    return mu_f(x) , cov_f(params, x, x)\n",
    "\n",
    "\n",
    "def cholesky_factorization(K, Y):\n",
    "\n",
    "    # cho factor the cholesky\n",
    "    logger.debug(f\"ChoFactor: K{K.shape}\")\n",
    "    L = jax.scipy.linalg.cho_factor(K, lower=True)\n",
    "    logger.debug(f\"Output, L: {L[0].shape}, {L[1]}\")\n",
    "\n",
    "    # weights\n",
    "    logger.debug(f\"Input, ChoSolve(L, Y): {L[0].shape, Y.shape}\")\n",
    "    weights = jax.scipy.linalg.cho_solve(L, Y)\n",
    "    logger.debug(f\"Output, alpha: {weights.shape}\")\n",
    "\n",
    "    return L, weights\n",
    "\n",
    "jitter = 1e-6\n",
    "\n",
    "def posterior(params, prior_params, X, Y, X_new, likelihood_noise=False):\n",
    "    logging.debug(f\"Inputs, X: {X.shape}, Y: {Y.shape}, X*: {X_new.shape}\")\n",
    "    (mu_func, cov_func) = prior_params\n",
    "    logging.debug(\"Loaded mean and cov functions\")\n",
    "\n",
    "    # ==========================\n",
    "    # 1. GP PRIOR\n",
    "    # ==========================\n",
    "    logging.debug(f\"Getting GP Priors...\")\n",
    "    \n",
    "    mu_x, Kxx = gp_prior(params, mu_f=mu_func, cov_f=cov_func, x=X)\n",
    "    logging.debug(f\"Output, mu_x: {mu_x.shape}, Kxx: {Kxx.shape}\")\n",
    "\n",
    "    # check outputs\n",
    "    assert mu_x.shape == (X.shape[0],), f\"{mu_x.shape} =/= {(X.shape[0],)}\"\n",
    "    assert Kxx.shape == (\n",
    "        X.shape[0],\n",
    "        X.shape[0],\n",
    "    ), f\"{Kxx.shape} =/= {(X.shape[0],X.shape[0])}\"\n",
    "\n",
    "    # ===========================\n",
    "    # 2. CHOLESKY FACTORIZATION\n",
    "    # ===========================\n",
    "    logging.debug(f\"Solving Cholesky Factorization...\")\n",
    "\n",
    "    # 1 STEP\n",
    "#     print(f\"Problem: {Kxx.shape},{Y.shape}\")\n",
    "    (L, lower), alpha = cholesky_factorization(\n",
    "        Kxx + (params[\"likelihood_noise\"] + 1e-6) * jnp.eye(Kxx.shape[0]), Y\n",
    "    )\n",
    "    logging.debug(f\"Output, L: {L.shape}, alpha: {alpha.shape}\")\n",
    "    assert L.shape == (\n",
    "        X.shape[0],\n",
    "        X.shape[0],\n",
    "    ), f\"L:{L.shape} =/= X..:{(X.shape[0],X.shape[0])}\"\n",
    "    assert alpha.shape == (X.shape[0], 1), f\"alpha: {alpha.shape} =/= X: {X.shape[0], 1}\"\n",
    "\n",
    "    # ================================\n",
    "    # 4. PREDICTIVE MEAN DISTRIBUTION\n",
    "    # ================================\n",
    "    logging.debug(f\"Getting Projection Kernel...\")\n",
    "    logging.debug(f\"Input, cov(x*, X): {X_new.shape},{X.shape}\")\n",
    "\n",
    "    # calculate transform kernel\n",
    "    KxX = cov_func(params, X_new, X)\n",
    "    \n",
    "    logging.debug(f\"Output, KxX: {KxX.shape}\")\n",
    "    \n",
    "\n",
    "    assert KxX.shape == (\n",
    "        X_new.shape[0],\n",
    "        X.shape[0],\n",
    "    ), f\"{KxX.shape} =/= {(X_new.shape[0],X.shape[0])}\"\n",
    "\n",
    "    # Project data\n",
    "    logging.debug(f\"Getting Predictive Mean Distribution...\")\n",
    "    logging.debug(f\"Input, mu(x*): {X_new.shape}, KxX @ alpha: {KxX.shape} @ {alpha.shape}\")\n",
    "    mu_y = jnp.dot(KxX, alpha)\n",
    "    logging.debug(f\"Output, mu_y: {mu_y.shape}\")\n",
    "    assert mu_y.shape == (X_new.shape[0],1)\n",
    "\n",
    "    # =====================================\n",
    "    # 5. PREDICTIVE COVARIANCE DISTRIBUTION\n",
    "    # =====================================\n",
    "    logging.debug(f\"Getting Predictive Covariance matrix...\")\n",
    "    logging.debug(f\"Input, L @ KxX.T: {L.shape} @ {KxX.T.shape}\")\n",
    "    \n",
    "    #     print(f\"K_xX: {KXx.T.shape}, L: {L.shape}\")\n",
    "    v = jax.scipy.linalg.cho_solve((L, True), KxX.T)\n",
    "\n",
    "    logging.debug(f\"Output, v: {v.shape}\")\n",
    "    assert v.shape == (\n",
    "        X.shape[0],\n",
    "        X_new.shape[0],\n",
    "    ), f\"v: {v.shape} =/= {(X_new.shape[0])}\"\n",
    "    \n",
    "    logging.debug(f\"Covariance matrix tests...cov(x*, x*)\")\n",
    "    logging.debug(f\"Inputs, cov(x*, x*) - {X_new.shape},{X_new.shape}\")\n",
    "    Kxx = cov_func(params, X_new, X_new)\n",
    "    \n",
    "    logging.debug(f\"Output, Kxx: {Kxx.shape}\")\n",
    "    assert Kxx.shape == (X_new.shape[0], X_new.shape[0])\n",
    "    \n",
    "    logging.debug(f\"Calculating final covariance matrix...\")\n",
    "    logging.debug(f\"Inputs, Kxx: {Kxx.shape}, v:{v.shape}\")\n",
    "    \n",
    "    cov_y = Kxx - jnp.dot(KxX, v)\n",
    "    logging.debug(f\"Output: cov(x*, x*) - {cov_y.shape}\")\n",
    "\n",
    "    assert cov_y.shape == (X_new.shape[0], X_new.shape[0])\n",
    "    \n",
    "    if likelihood_noise is True:\n",
    "        cov_y += params['likelihood_noise']\n",
    "\n",
    "    # TODO: Bug here for vmap...\n",
    "\n",
    "    # =====================================\n",
    "    # 6. PREDICTIVE VARIANCE DISTRIBUTION\n",
    "    # =====================================\n",
    "    logging.debug(f\"Getting Predictive Variance...\")\n",
    "    logging.debug(f\"Input, L.T, I: {L.T.shape}, {KxX.T.shape}\")\n",
    "    \n",
    "    Linv = jax.scipy.linalg.solve_triangular(L.T, jnp.eye(L.shape[0]))\n",
    "    \n",
    "    \n",
    "    logging.debug(f\"Output, Linv: {Linv.shape}, {Linv.min():.2f},{Linv.max():.2f}\")\n",
    "\n",
    "    logging.debug(f\"Covariance matrix tests...cov(x*, x*)\")\n",
    "    logging.debug(f\"Inputs, cov(x*, x*) - {X_new.shape},{X_new.shape}\")\n",
    "    var_y = jnp.diag(cov_func(params, X_new, X_new))\n",
    "    logging.debug(f\"Output, diag(Kxx): {var_y.shape}, {var_y.min():.2f},{var_y.max():.2f}\")\n",
    "    \n",
    "    logging.debug(f\"Inputs, Linv @ Linv.T - {Linv.shape},{Linv.T.shape}\")\n",
    "    Kinv =  jnp.dot(Linv, Linv.T)\n",
    "    logging.debug(f\"Output, Kinv: {Kinv.shape}, {Kinv.min():.2f},{Kinv.max():.2f}\")\n",
    "    \n",
    "    logging.debug(f\"Final Variance...\")\n",
    "    logging.debug(f\"Inputs, KxX: {KxX.shape}, {Kinv.shape}, {KxX.shape}\")\n",
    "    var_y -= jnp.einsum(\"ij,ij->i\", jnp.dot(KxX, Kinv), KxX) #jnp.dot(jnp.dot(KxX, Kinv), KxX.T)\n",
    "    logging.debug(f\"Output, var_y: {var_y.shape}, {var_y.min():.2f},{var_y.max():.2f}\")\n",
    "    #jnp.einsum(\"ij, jk, ki->i\", KxX, jnp.dot(Linv, Linv.T), KxX.T)\n",
    "\n",
    "    return mu_y, cov_y, jnp.diag(cov_y)"
   ]
  },
  {
   "cell_type": "code",
   "execution_count": 13,
   "metadata": {},
   "outputs": [
    {
     "name": "stderr",
     "output_type": "stream",
     "text": [
      "DEBUG:root:Inputs, X: (30, 1), Y: (30, 1), X*: (1,)\n",
      "DEBUG:root:Loaded mean and cov functions\n",
      "DEBUG:root:Getting GP Priors...\n",
      "DEBUG:absl:Compiling rbf_kernel for args (ShapedArray(float32[], weak_type=True), ShapedArray(float32[], weak_type=True), ShapedArray(float32[], weak_type=True), ShapedArray(float32[30,1]), ShapedArray(float32[30,1])).\n",
      "DEBUG:root:Output, mu_x: (30,), Kxx: (30, 30)\n",
      "DEBUG:root:Solving Cholesky Factorization...\n",
      "DEBUG:root:ChoFactor: K(30, 30)\n",
      "DEBUG:absl:Compiling _cholesky for args (ShapedArray(float32[30,30]),).\n",
      "DEBUG:root:Output, L: (30, 30), True\n",
      "DEBUG:root:Input, ChoSolve(L, Y): ((30, 30), (30, 1))\n",
      "DEBUG:absl:Compiling _cho_solve for args (ShapedArray(float32[30,30]), ShapedArray(float32[30,1])).\n",
      "DEBUG:root:Output, alpha: (30, 1)\n",
      "DEBUG:root:Output, L: (30, 30), alpha: (30, 1)\n",
      "DEBUG:root:Getting Projection Kernel...\n",
      "DEBUG:root:Input, cov(x*, X): (1,),(30, 1)\n",
      "DEBUG:absl:Compiling rbf_kernel for args (ShapedArray(float32[], weak_type=True), ShapedArray(float32[], weak_type=True), ShapedArray(float32[], weak_type=True), ShapedArray(float32[1]), ShapedArray(float32[30,1])).\n",
      "DEBUG:root:Output, KxX: (1, 30)\n",
      "DEBUG:root:Getting Predictive Mean Distribution...\n",
      "DEBUG:root:Input, mu(x*): (1,), KxX @ alpha: (1, 30) @ (30, 1)\n",
      "DEBUG:root:Output, mu_y: (1, 1)\n",
      "DEBUG:root:Getting Predictive Covariance matrix...\n",
      "DEBUG:root:Input, L @ KxX.T: (30, 30) @ (30, 1)\n",
      "DEBUG:root:Output, v: (30, 1)\n",
      "DEBUG:root:Covariance matrix tests...cov(x*, x*)\n",
      "DEBUG:root:Inputs, cov(x*, x*) - (1,),(1,)\n",
      "DEBUG:absl:Compiling rbf_kernel for args (ShapedArray(float32[], weak_type=True), ShapedArray(float32[], weak_type=True), ShapedArray(float32[], weak_type=True), ShapedArray(float32[1]), ShapedArray(float32[1])).\n",
      "DEBUG:root:Output, Kxx: (1, 1)\n",
      "DEBUG:root:Calculating final covariance matrix...\n",
      "DEBUG:root:Inputs, Kxx: (1, 1), v:(30, 1)\n",
      "DEBUG:root:Output: cov(x*, x*) - (1, 1)\n",
      "DEBUG:root:Getting Predictive Variance...\n",
      "DEBUG:root:Input, L.T, I: (30, 30), (30, 1)\n",
      "DEBUG:absl:Compiling _solve_triangular for args (ShapedArray(float32[30,30]), ShapedArray(float32[30,30])).\n",
      "DEBUG:root:Output, Linv: (30, 30), -6.00,7.19\n",
      "DEBUG:root:Covariance matrix tests...cov(x*, x*)\n",
      "DEBUG:root:Inputs, cov(x*, x*) - (1,),(1,)\n",
      "DEBUG:absl:Compiling _where for args (ShapedArray(bool[1,1]), ShapedArray(float32[1,1]), ShapedArray(float32[1,1])).\n",
      "DEBUG:root:Output, diag(Kxx): (1,), 1.00,1.00\n",
      "DEBUG:root:Inputs, Linv @ Linv.T - (30, 30),(30, 30)\n",
      "DEBUG:root:Output, Kinv: (30, 30), -33.54,86.93\n",
      "DEBUG:root:Final Variance...\n",
      "DEBUG:root:Inputs, KxX: (1, 30), (30, 30), (1, 30)\n",
      "DEBUG:absl:Compiling _einsum for args (ShapedArray(float32[1,30]), ShapedArray(float32[1,30])).\n",
      "DEBUG:root:Output, var_y: (1,), 0.03,0.03\n"
     ]
    },
    {
     "name": "stdout",
     "output_type": "stream",
     "text": [
      "(1, 1) (1, 1) (1,)\n"
     ]
    }
   ],
   "source": [
    "logger.setLevel(logging.DEBUG)\n",
    "# MEAN FUNCTION\n",
    "mu_f = zero_mean\n",
    "\n",
    "# COVARIANCE FUNCTION\n",
    "params = {\n",
    "    'gamma': 1.0,\n",
    "    'var_f': 1.0,\n",
    "    'likelihood_noise': 0.01,\n",
    "}\n",
    "cov_f = functools.partial(gram, rbf_kernel)\n",
    "\n",
    "# input vector\n",
    "# x_plot = jnp.linspace(X.min(), X.max(), 100)[:, None]\n",
    "test_X = Xtest[0, :]\n",
    "\n",
    "prior_funcs = (mu_f, cov_f)\n",
    "\n",
    "mu_y, cov_y, var_y = posterior(params, prior_funcs, X, y, X_new=test_X)\n",
    "\n",
    "print(mu_y.shape,  cov_y.shape, var_y.shape)"
   ]
  },
  {
   "cell_type": "code",
   "execution_count": 14,
   "metadata": {},
   "outputs": [
    {
     "name": "stderr",
     "output_type": "stream",
     "text": [
      "DEBUG:root:Inputs, X: (30, 1), Y: (30, 1), X*: (400, 1)\n",
      "DEBUG:root:Loaded mean and cov functions\n",
      "DEBUG:root:Getting GP Priors...\n",
      "DEBUG:root:Output, mu_x: (30,), Kxx: (30, 30)\n",
      "DEBUG:root:Solving Cholesky Factorization...\n",
      "DEBUG:root:ChoFactor: K(30, 30)\n",
      "DEBUG:root:Output, L: (30, 30), True\n",
      "DEBUG:root:Input, ChoSolve(L, Y): ((30, 30), (30, 1))\n",
      "DEBUG:root:Output, alpha: (30, 1)\n",
      "DEBUG:root:Output, L: (30, 30), alpha: (30, 1)\n",
      "DEBUG:root:Getting Projection Kernel...\n",
      "DEBUG:root:Input, cov(x*, X): (400, 1),(30, 1)\n",
      "DEBUG:root:Output, KxX: (400, 30)\n",
      "DEBUG:root:Getting Predictive Mean Distribution...\n",
      "DEBUG:root:Input, mu(x*): (400, 1), KxX @ alpha: (400, 30) @ (30, 1)\n",
      "DEBUG:root:Output, mu_y: (400, 1)\n",
      "DEBUG:root:Getting Predictive Covariance matrix...\n",
      "DEBUG:root:Input, L @ KxX.T: (30, 30) @ (30, 400)\n",
      "DEBUG:absl:Compiling _cho_solve for args (ShapedArray(float32[30,30]), ShapedArray(float32[30,400])).\n",
      "DEBUG:root:Output, v: (30, 400)\n",
      "DEBUG:root:Covariance matrix tests...cov(x*, x*)\n",
      "DEBUG:root:Inputs, cov(x*, x*) - (400, 1),(400, 1)\n",
      "DEBUG:absl:Compiling rbf_kernel for args (ShapedArray(float32[], weak_type=True), ShapedArray(float32[], weak_type=True), ShapedArray(float32[], weak_type=True), ShapedArray(float32[400,1]), ShapedArray(float32[400,1])).\n",
      "DEBUG:root:Output, Kxx: (400, 400)\n",
      "DEBUG:root:Calculating final covariance matrix...\n",
      "DEBUG:root:Inputs, Kxx: (400, 400), v:(30, 400)\n",
      "DEBUG:root:Output: cov(x*, x*) - (400, 400)\n",
      "DEBUG:root:Getting Predictive Variance...\n",
      "DEBUG:root:Input, L.T, I: (30, 30), (30, 400)\n",
      "DEBUG:root:Output, Linv: (30, 30), -6.00,7.19\n",
      "DEBUG:root:Covariance matrix tests...cov(x*, x*)\n",
      "DEBUG:root:Inputs, cov(x*, x*) - (400, 1),(400, 1)\n",
      "DEBUG:absl:Compiling _where for args (ShapedArray(bool[400,400]), ShapedArray(float32[400,400]), ShapedArray(float32[400,400])).\n",
      "DEBUG:root:Output, diag(Kxx): (400,), 1.00,1.00\n",
      "DEBUG:root:Inputs, Linv @ Linv.T - (30, 30),(30, 30)\n",
      "DEBUG:root:Output, Kinv: (30, 30), -33.54,86.93\n",
      "DEBUG:root:Final Variance...\n",
      "DEBUG:root:Inputs, KxX: (400, 30), (30, 30), (400, 30)\n",
      "DEBUG:absl:Compiling _einsum for args (ShapedArray(float32[400,30]), ShapedArray(float32[400,30])).\n",
      "DEBUG:root:Output, var_y: (400,), 0.00,0.03\n"
     ]
    },
    {
     "name": "stdout",
     "output_type": "stream",
     "text": [
      "(400, 1) (400, 400) (400,)\n"
     ]
    }
   ],
   "source": [
    "mu_y, cov_y, var_y = posterior(params, prior_funcs, X, y, Xtest, True)\n",
    "\n",
    "print(mu_y.shape,  cov_y.shape, var_y.shape)"
   ]
  },
  {
   "cell_type": "code",
   "execution_count": 15,
   "metadata": {},
   "outputs": [
    {
     "data": {
      "text/plain": [
       "[<matplotlib.lines.Line2D at 0x7f06943d8a30>]"
      ]
     },
     "execution_count": 15,
     "metadata": {},
     "output_type": "execute_result"
    },
    {
     "data": {
      "image/png": "[encoded data removed]",
      "text/plain": [
       "<Figure size 460.8x316.8 with 1 Axes>"
      ]
     },
     "metadata": {
      "needs_background": "light"
     },
     "output_type": "display_data"
    }
   ],
   "source": [
    "plt.plot(var_y.squeeze())"
   ]
  },
  {
   "cell_type": "code",
   "execution_count": 16,
   "metadata": {},
   "outputs": [
    {
     "data": {
      "text/plain": [
       "((1,), (400, 1))"
      ]
     },
     "execution_count": 16,
     "metadata": {},
     "output_type": "execute_result"
    }
   ],
   "source": [
    "test_X.shape, mu_y.shape"
   ]
  },
  {
   "cell_type": "code",
   "execution_count": 17,
   "metadata": {},
   "outputs": [
    {
     "data": {
      "text/plain": [
       "[<matplotlib.lines.Line2D at 0x7f06741adfd0>]"
      ]
     },
     "execution_count": 17,
     "metadata": {},
     "output_type": "execute_result"
    },
    {
     "data": {
      "image/png": "[encoded data removed]",
      "text/plain": [
       "<Figure size 460.8x316.8 with 1 Axes>"
      ]
     },
     "metadata": {
      "needs_background": "light"
     },
     "output_type": "display_data"
    }
   ],
   "source": [
    "uncertainty = 1.96 * jnp.sqrt(var_y.squeeze())\n",
    "\n",
    "plt.fill_between(Xtest.squeeze(), mu_y.squeeze() + uncertainty, mu_y.squeeze() - uncertainty, alpha=0.1)\n",
    "plt.plot(Xtest.squeeze(), mu_y.squeeze(), label='Mean')"
   ]
  },
  {
   "cell_type": "markdown",
   "metadata": {},
   "source": [
    "## 5. Loss - Log-Likelihood"
   ]
  },
  {
   "cell_type": "markdown",
   "metadata": {},
   "source": [
    "### From Scratch"
   ]
  },
  {
   "cell_type": "code",
   "execution_count": 18,
   "metadata": {},
   "outputs": [],
   "source": [
    "\n",
    "# @jax.jit\n",
    "def cholesky_factorization(K, Y):\n",
    "    \n",
    "    # cho factor the cholesky \n",
    "    L = jax.scipy.linalg.cho_factor(K)\n",
    "\n",
    "    # weights\n",
    "    weights = jax.scipy.linalg.cho_solve(L, Y)\n",
    "    \n",
    "    return L, weights\n",
    "\n",
    "def nll_scratch(gp_priors, params, X, Y) -> float:\n",
    "    \n",
    "    (mu_func, cov_func) = gp_priors\n",
    "    \n",
    "    # ==========================\n",
    "    # 1. GP PRIOR\n",
    "    # ==========================\n",
    "    mu_x, Kxx = gp_prior(params, mu_f=mu_func, cov_f=cov_func , x=X)\n",
    "#     y_mean = jnp.mean(Y, axis=1)\n",
    "#     Y -= y_mean\n",
    "#     print(mu_x.shape, Kxx.shape)\n",
    "    \n",
    "    # ===========================\n",
    "    # 2. CHOLESKY FACTORIZATION\n",
    "    # ===========================\n",
    "#     print(f\"Problem:\", X.shape, Y.shape, Kxx.shape)\n",
    "#     print(f\"Y: {Y.shape}, Kxx: {Kxx.shape}\")\n",
    "    \n",
    "    (L, lower), alpha = cholesky_factorization(Kxx + ( params['likelihood_noise'] + 1e-5 ) * jnp.eye(Kxx.shape[0]), Y)\n",
    "#     L = jax.scipy.linalg.cholesky(Kxx + ( params['likelihood_noise'] + 1e-6 ) * jnp.eye(Kxx.shape[0]), lower=True)\n",
    "#     alpha = jax.scipy.linalg.solve_triangular(L.T, jax.scipy.linalg.solve_triangular(L, y, lower=True))\n",
    "#     print(f\"Y: {Y.shape}, alpha: {alpha.shape}\")\n",
    "    logging.debug(f\"Y: {Y.shape},alpha:{alpha.shape}\")\n",
    "    log_likelihood = -0.5 * jnp.einsum(\"ik,ik->k\", Y, alpha) #* jnp.dot(Y.T, alpha) #\n",
    "    log_likelihood -= jnp.sum(jnp.log(jnp.diag(L)))\n",
    "    log_likelihood -= ( Kxx.shape[0] / 2 ) * jnp.log(2 * jnp.pi)\n",
    "#     log_likelihood -= jnp.sum(-0.5 * np.log(2 * 3.1415) - params['var_f']**2)\n",
    "    return - jnp.sum(log_likelihood)\n",
    "# #     print(L.shape, alpha.shape)\n",
    "#     # cho factor the cholesky \n",
    "#     K_gp = Kxx + ( params['likelihood_noise'] + 1e-6 ) * jnp.eye(Kxx.shape[0])\n",
    "# #     L = jax.scipy.linalg.cholesky(K_gp)\n",
    "# #     assert np.testing.assert_array_almost_equal(K_gp, L @ L.T), \n",
    "    \n",
    "#     return jax.scipy.stats.multivariate_normal.logpdf(Y, mean=mu_x, cov=K_gp)"
   ]
  },
  {
   "cell_type": "code",
   "execution_count": 19,
   "metadata": {},
   "outputs": [
    {
     "name": "stderr",
     "output_type": "stream",
     "text": [
      "DEBUG:absl:Compiling _cholesky for args (ShapedArray(float32[30,30]),).\n",
      "DEBUG:absl:Compiling _cho_solve for args (ShapedArray(float32[30,30]), ShapedArray(float32[30,1])).\n",
      "DEBUG:root:Y: (30, 1),alpha:(30, 1)\n",
      "DEBUG:absl:Compiling _einsum for args (ShapedArray(float32[30,1]), ShapedArray(float32[30,1])).\n",
      "DEBUG:absl:Compiling _where for args (ShapedArray(bool[30,30]), ShapedArray(float32[30,30]), ShapedArray(float32[30,30])).\n"
     ]
    },
    {
     "name": "stdout",
     "output_type": "stream",
     "text": [
      "54.878708\n"
     ]
    }
   ],
   "source": [
    "# MEAN FUNCTION\n",
    "mu_f = zero_mean\n",
    "\n",
    "# COVARIANCE FUNCTION\n",
    "params = {\n",
    "    'gamma': 1.0,\n",
    "    'var_f': 1.0,\n",
    "    'likelihood_noise': 0.01,\n",
    "}\n",
    "cov_f = functools.partial(gram, rbf_kernel)\n",
    "\n",
    "\n",
    "prior_funcs = (mu_f, cov_f)\n",
    "# print(X.shape, y.shape, test_X.shape)\n",
    "\n",
    "nll = nll_scratch(prior_funcs, params, X, y)\n",
    "print(nll)"
   ]
  },
  {
   "cell_type": "markdown",
   "metadata": {},
   "source": [
    "#### Auto-Batching with VMAP"
   ]
  },
  {
   "cell_type": "code",
   "execution_count": 234,
   "metadata": {
    "collapsed": true,
    "jupyter": {
     "outputs_hidden": true,
     "source_hidden": true
    }
   },
   "outputs": [
    {
     "name": "stdout",
     "output_type": "stream",
     "text": [
      "(1,) (1, 1)\n",
      "Y: (1,), alpha: (1,)\n",
      "-209.98637\n"
     ]
    }
   ],
   "source": [
    "nll_scratch_vec = jax.vmap(nll_scratch, in_axes=(None, None, 0, 0))\n",
    "\n",
    "nll = nll_scratch_vec(params, prior_funcs, X, y[:, None])\n",
    "print(nll.sum())\n"
   ]
  },
  {
   "cell_type": "markdown",
   "metadata": {},
   "source": [
    "### Refactor - Built-in Function\n",
    "\n",
    "It turns out that the jax library already has the `logpdf` for the `multivariate_normal` already implemented. So we can just use that."
   ]
  },
  {
   "cell_type": "code",
   "execution_count": 20,
   "metadata": {},
   "outputs": [],
   "source": [
    "def gp_prior(params, mu_f, cov_f, x):\n",
    "    return mu_f(x) , cov_f(params, x, x)\n",
    "\n",
    "def marginal_likelihood(prior_params, params,  Xtrain, Ytrain):\n",
    "    \n",
    "    # unpack params\n",
    "    (mu_func, cov_func) = prior_params\n",
    "    \n",
    "    # ==========================\n",
    "    # 1. GP Prior\n",
    "    # ==========================\n",
    "    mu_x = mu_f(Xtrain)\n",
    "    logging.debug(f\"mu: {mu_x.shape}\")\n",
    "    Kxx = cov_f(params, Xtrain, Xtrain)\n",
    "    logging.debug(f\"Kxx: {Kxx.shape}\")\n",
    "#     print(\"MLL (GPPR):\", Xtrain.shape, Ytrain.shape)\n",
    "#     mu_x, Kxx = gp_prior(params, mu_f=mu_func, cov_f=cov_func , x=Xtrain)\n",
    "    \n",
    "    # ===========================\n",
    "    # 2. GP Likelihood\n",
    "    # ===========================\n",
    "    K_gp = Kxx + ( params['likelihood_noise'] + 1e-6 ) * jnp.eye(Kxx.shape[0])\n",
    "    logging.debug(f\"K_gp: {K_gp.shape}\")\n",
    "#     print(\"MLL (GPLL):\", Xtrain.shape, Ytrain.shape)\n",
    "    \n",
    "    # ===========================\n",
    "    # 3. Built-in GP Likelihood\n",
    "    # ===========================\n",
    "    logging.debug(f\"Input: {Ytrain.squeeze().shape}, mu: {mu_x.shape}, K: {K_gp.shape}\")\n",
    "    log_prob = jax.scipy.stats.multivariate_normal.logpdf(Ytrain.squeeze(), mean=jnp.zeros(Ytrain.shape[0]), cov=K_gp)\n",
    "    logging.debug(f\"LogProb: {log_prob.shape}\")\n",
    "    \n",
    "    nll = jnp.sum(log_prob)\n",
    "    return -nll\n",
    "    \n",
    "            \n",
    "    \n",
    "\n",
    "\n"
   ]
  },
  {
   "cell_type": "code",
   "execution_count": 21,
   "metadata": {},
   "outputs": [
    {
     "name": "stderr",
     "output_type": "stream",
     "text": [
      "DEBUG:root:mu: (30,)\n",
      "DEBUG:root:Kxx: (30, 30)\n",
      "DEBUG:root:K_gp: (30, 30)\n",
      "DEBUG:root:Input: (30,), mu: (30,), K: (30, 30)\n",
      "DEBUG:absl:Compiling _einsum for args (ShapedArray(float32[30]), ShapedArray(float32[30])).\n",
      "DEBUG:root:LogProb: ()\n"
     ]
    },
    {
     "name": "stdout",
     "output_type": "stream",
     "text": [
      "54.937344\n"
     ]
    }
   ],
   "source": [
    "logger.setLevel(logging.DEBUG)\n",
    "# MEAN FUNCTION\n",
    "mu_f = zero_mean\n",
    "\n",
    "# COVARIANCE FUNCTION\n",
    "params = {\n",
    "    'gamma': 1.0,\n",
    "    'var_f': 1.0,\n",
    "    'likelihood_noise': 0.01,\n",
    "}\n",
    "cov_f = functools.partial(gram, rbf_kernel)\n",
    "\n",
    "\n",
    "prior_funcs = (mu_f, cov_f)\n",
    "# print(X.shape, y.shape, test_X.shape)\n",
    "\n",
    "nll = marginal_likelihood(prior_funcs, params, X, y)\n",
    "print(nll)"
   ]
  },
  {
   "cell_type": "code",
   "execution_count": 22,
   "metadata": {},
   "outputs": [
    {
     "name": "stdout",
     "output_type": "stream",
     "text": [
      "18.3 ms ± 2.55 ms per loop (mean ± std. dev. of 7 runs, 10 loops each)\n",
      "26 ms ± 906 µs per loop (mean ± std. dev. of 7 runs, 10 loops each)\n"
     ]
    }
   ],
   "source": [
    "logger.setLevel(logging.INFO)\n",
    "%timeit _ = nll_scratch(prior_funcs, params, X, y)\n",
    "%timeit _ = marginal_likelihood(prior_funcs, params, X, y)"
   ]
  },
  {
   "cell_type": "markdown",
   "metadata": {},
   "source": [
    "## 6. Training"
   ]
  },
  {
   "cell_type": "code",
   "execution_count": 23,
   "metadata": {},
   "outputs": [],
   "source": [
    "def softplus(x):\n",
    "    return np.logaddexp(x, 0.)"
   ]
  },
  {
   "cell_type": "code",
   "execution_count": 24,
   "metadata": {},
   "outputs": [
    {
     "name": "stderr",
     "output_type": "stream",
     "text": [
      "100%|██████████| 2000/2000 [00:05<00:00, 335.90it/s, gamma=1.58, likelihood_noise=-2.76, Loss=10.66]\n"
     ]
    }
   ],
   "source": [
    "logger.setLevel(logging.INFO)\n",
    "\n",
    "X, y, Xtest, ytest = get_data(30)\n",
    "\n",
    "\n",
    "\n",
    "params = {\n",
    "    'gamma': 10.,\n",
    "#     'length_scale': 1.0,\n",
    "#     'var_f': 1.0,\n",
    "    'likelihood_noise': 1e-3,\n",
    "}\n",
    "\n",
    "# Nice Trick for better training of params\n",
    "def saturate(params):\n",
    "    return {ikey:softplus(ivalue) for (ikey, ivalue) in params.items()}\n",
    "\n",
    "params = saturate(params)\n",
    "\n",
    "cov_f = functools.partial(gram, rbf_kernel)\n",
    "\n",
    "gp_priors = (mu_f, cov_f)\n",
    "\n",
    "# LOSS FUNCTION\n",
    "mll_loss = jax.jit(functools.partial(nll_scratch, gp_priors))\n",
    "\n",
    "# GRADIENT LOSS FUNCTION\n",
    "dloss = jax.jit(jax.grad(mll_loss))\n",
    "\n",
    "\n",
    "\n",
    "# MEAN FUNCTION\n",
    "mu_f = zero_mean\n",
    "\n",
    "\n",
    "# l_val = mll_loss(saturate(params), X[0,:], y[0, :].reshape(-1, 1))\n",
    "l_vals = mll_loss(saturate(params), X, y)\n",
    "# print('MLL (vector):', l_val)\n",
    "# print('MLL (samples):', l_vals)\n",
    "\n",
    "\n",
    "# dl_val = dloss(saturate(params), X[0,:], y[0, :].reshape(-1, 1))\n",
    "dl_vals = dloss(saturate(params), X, y)\n",
    "# print('dMLL (vector):', dl_val)|\n",
    "# print('dMLL (samples):', dl_vals)\n",
    "\n",
    "\n",
    "\n",
    "# STEP FUNCTION\n",
    "@jax.jit\n",
    "def step(params, X, y, opt_state):\n",
    "    # print(\"BEOFRE!\")\n",
    "    # print(X.shape, y.shape)\n",
    "    # print(\"PARAMS\", params)\n",
    "    # print(opt_state)\n",
    "    # value and gradient of loss function\n",
    "    loss = mll_loss(params, X, y)\n",
    "    grads = dloss(params, X, y)\n",
    "    # # print(f\"VALUE:\", value)\n",
    "    # print(\"During! v\", value)\n",
    "    # print(\"During! p\", params)\n",
    "    # print(\"During! g\", grads)\n",
    "    # update parameter state\n",
    "    opt_state = opt_update(0, grads, opt_state)\n",
    "\n",
    "    # get new params\n",
    "    params = get_params(opt_state)\n",
    "    # print(\"AFTER! v\", value)\n",
    "    # print(\"AFTER! p\", params)\n",
    "    # print(\"AFTER! g\", grads)\n",
    "    return params, opt_state, loss\n",
    "\n",
    "# initialize optimizer\n",
    "opt_init, opt_update, get_params = optimizers.adam(step_size=1e-2)\n",
    "\n",
    "# initialize parameters\n",
    "opt_state = opt_init(params)\n",
    "\n",
    "# get initial parameters\n",
    "params = get_params(opt_state)\n",
    "# print(\"PARAMS!\", params)\n",
    "\n",
    "n_epochs = 2_000\n",
    "learning_rate = 0.01\n",
    "losses = list()\n",
    "\n",
    "import tqdm\n",
    "\n",
    "with tqdm.trange(n_epochs) as bar:\n",
    "\n",
    "    for i in bar:\n",
    "        postfix = {}\n",
    "#         params = saturate(params)\n",
    "        # get nll and grads\n",
    "        # nll, grads = dloss(params, X, y)\n",
    "\n",
    "        params, opt_state, value = step(params, X, y, opt_state)\n",
    "\n",
    "        # update params\n",
    "        # params, momentums, scales, nll = train_step(params, momentums, scales, X, y)\n",
    "        for ikey in params.keys():\n",
    "            postfix[ikey] = f\"{params[ikey]:.2f}\"\n",
    "        # params[ikey] += learning_rate * grads[ikey].mean()\n",
    "\n",
    "        losses.append(value.mean())\n",
    "        postfix[\"Loss\"] = f\"{onp.array(losses[-1]):.2f}\"\n",
    "        bar.set_postfix(postfix)\n",
    "        params = saturate(params)\n",
    "        \n",
    "\n",
    "# params = log_params(params)"
   ]
  },
  {
   "cell_type": "code",
   "execution_count": 25,
   "metadata": {},
   "outputs": [
    {
     "data": {
      "text/plain": [
       "{'gamma': 1.770868627016222, 'likelihood_noise': 0.06155753105145977}"
      ]
     },
     "execution_count": 25,
     "metadata": {},
     "output_type": "execute_result"
    },
    {
     "data": {
      "image/png": "[encoded data removed]",
      "text/plain": [
       "<Figure size 460.8x316.8 with 1 Axes>"
      ]
     },
     "metadata": {
      "needs_background": "light"
     },
     "output_type": "display_data"
    }
   ],
   "source": [
    "plt.plot(losses)\n",
    "params"
   ]
  },
  {
   "cell_type": "markdown",
   "metadata": {},
   "source": [
    "## 7. Predictions"
   ]
  },
  {
   "cell_type": "code",
   "execution_count": 26,
   "metadata": {},
   "outputs": [],
   "source": [
    "def posterior(params, prior_params, X, Y, X_new, likelihood_noise=False):\n",
    "    logging.debug(f\"Inputs, X: {X.shape}, Y: {Y.shape}, X*: {X_new.shape}\")\n",
    "    (mu_func, cov_func) = prior_params\n",
    "    logging.debug(\"Loaded mean and cov functions\")\n",
    "\n",
    "    # ==========================\n",
    "    # 1. GP PRIOR\n",
    "    # ==========================\n",
    "    logging.debug(f\"Getting GP Priors...\")\n",
    "    \n",
    "    mu_x, Kxx = gp_prior(params, mu_f=mu_func, cov_f=cov_func, x=X)\n",
    "    logging.debug(f\"Output, mu_x: {mu_x.shape}, Kxx: {Kxx.shape}\")\n",
    "    logging.debug(f\"Output, Kxx: {Kxx.shape}, {Kxx.min()}, {Kxx.max()}\")\n",
    "    # check outputs\n",
    "    assert mu_x.shape == (X.shape[0],), f\"{mu_x.shape} =/= {(X.shape[0],)}\"\n",
    "    assert Kxx.shape == (\n",
    "        X.shape[0],\n",
    "        X.shape[0],\n",
    "    ), f\"{Kxx.shape} =/= {(X.shape[0],X.shape[0])}\"\n",
    "\n",
    "    # ===========================\n",
    "    # 2. CHOLESKY FACTORIZATION\n",
    "    # ===========================\n",
    "    logging.debug(f\"Solving Cholesky Factorization...\")\n",
    "\n",
    "    # 1 STEP\n",
    "#     print(f\"Problem: {Kxx.shape},{Y.shape}\")\n",
    "    L = jax.scipy.linalg.cholesky(\n",
    "        Kxx + (params[\"likelihood_noise\"] + 1e-7) * jnp.eye(Kxx.shape[0]), lower=True\n",
    "    )\n",
    "    logging.debug(f\"Output, L: {L.shape},{L.min()},{L.max()} \")\n",
    "    \n",
    "    alpha = jax.scipy.linalg.solve_triangular(\n",
    "        L.T, \n",
    "        jax.scipy.linalg.solve_triangular(L, Y, lower=True)\n",
    "    )\n",
    "#     (L, lower), alpha = cholesky_factorization(\n",
    "#         , Y\n",
    "#     )\n",
    "    logging.debug(f\"Output, L: {L.shape}, alpha: {alpha.shape},{alpha.min()},{alpha.max()} \")\n",
    "    assert L.shape == (\n",
    "        X.shape[0],\n",
    "        X.shape[0],\n",
    "    ), f\"L:{L.shape} =/= X..:{(X.shape[0],X.shape[0])}\"\n",
    "    assert alpha.shape == (X.shape[0], 1), f\"alpha: {alpha.shape} =/= X: {X.shape[0], 1}\"\n",
    "\n",
    "    # ================================\n",
    "    # 4. PREDICTIVE MEAN DISTRIBUTION\n",
    "    # ================================\n",
    "    logging.debug(f\"Getting Projection Kernel...\")\n",
    "    logging.debug(f\"Input, cov(x*, X): {X_new.shape},{X.shape}\")\n",
    "\n",
    "    # calculate transform kernel\n",
    "    KxX = cov_func(params, X_new, X)\n",
    "    \n",
    "    logging.debug(f\"Output, KxX: {KxX.shape}\")\n",
    "    \n",
    "\n",
    "    assert KxX.shape == (\n",
    "        X_new.shape[0],\n",
    "        X.shape[0],\n",
    "    ), f\"{KxX.shape} =/= {(X_new.shape[0],X.shape[0])}\"\n",
    "\n",
    "    # Project data\n",
    "    logging.debug(f\"Getting Predictive Mean Distribution...\")\n",
    "    logging.debug(f\"Input, mu(x*): {X_new.shape}, KxX @ alpha: {KxX.shape} @ {alpha.shape}\")\n",
    "    mu_y = jnp.dot(KxX, alpha)\n",
    "    logging.debug(f\"Output, mu_y: {mu_y.shape}\")\n",
    "    assert mu_y.shape == (X_new.shape[0],1)\n",
    "\n",
    "    # =====================================\n",
    "    # 5. PREDICTIVE COVARIANCE DISTRIBUTION\n",
    "    # =====================================\n",
    "    logging.debug(f\"Getting Predictive Covariance matrix...\")\n",
    "    logging.debug(f\"Input, L @ KxX.T: {L.shape} @ {KxX.T.shape}\")\n",
    "    \n",
    "    #     print(f\"K_xX: {KXx.T.shape}, L: {L.shape}\")\n",
    "    v = jax.scipy.linalg.cho_solve((L, True), KxX.T)\n",
    "\n",
    "    logging.debug(f\"Output, v: {v.shape}, {v.min():.2f},{v.max():.2f}\")\n",
    "    assert v.shape == (\n",
    "        X.shape[0],\n",
    "        X_new.shape[0],\n",
    "    ), f\"v: {v.shape} =/= {(X_new.shape[0])}\"\n",
    "    \n",
    "    logging.debug(f\"Covariance matrix tests...cov(x*, x*)\")\n",
    "    logging.debug(f\"Inputs, cov(x*, x*) - {X_new.shape},{X_new.shape}\")\n",
    "    Kxx = cov_func(params, X_new, X_new)\n",
    "    \n",
    "    logging.debug(f\"Output, Kxx: {Kxx.shape}\")\n",
    "    assert Kxx.shape == (X_new.shape[0], X_new.shape[0])\n",
    "    \n",
    "    logging.debug(f\"Calculating final covariance matrix...\")\n",
    "    logging.debug(f\"Inputs, Kxx: {Kxx.shape}, v:{v.shape}\")\n",
    "    \n",
    "    cov_y = Kxx - jnp.dot(KxX, v)\n",
    "    logging.debug(f\"Output: cov(x*, x*) - {cov_y.shape}\")\n",
    "\n",
    "    assert cov_y.shape == (X_new.shape[0], X_new.shape[0])\n",
    "    \n",
    "    if likelihood_noise is True:\n",
    "        cov_y += params['likelihood_noise']\n",
    "\n",
    "    # TODO: Bug here for vmap...\n",
    "\n",
    "    # =====================================\n",
    "    # 6. PREDICTIVE VARIANCE DISTRIBUTION\n",
    "    # =====================================\n",
    "    logging.debug(f\"Getting Predictive Variance...\")\n",
    "    logging.debug(f\"Input, L.T, I: {L.T.shape}, {KxX.T.shape}\")\n",
    "    \n",
    "    Linv = jax.scipy.linalg.solve_triangular(L.T, jnp.eye(L.shape[0]))\n",
    "    \n",
    "    \n",
    "    logging.debug(f\"Output, Linv: {Linv.shape}, {Linv.min():.2f},{Linv.max():.2f}\")\n",
    "\n",
    "    logging.debug(f\"Covariance matrix tests...cov(x*, x*)\")\n",
    "    logging.debug(f\"Inputs, cov(x*, x*) - {X_new.shape},{X_new.shape}\")\n",
    "    var_y = jnp.diag(cov_func(params, X_new, X_new))\n",
    "    logging.debug(f\"Output, diag(Kxx): {var_y.shape}, {var_y.min():.2f},{var_y.max():.2f}\")\n",
    "    \n",
    "    logging.debug(f\"Inputs, Linv @ Linv.T - {Linv.shape},{Linv.T.shape}\")\n",
    "    Kinv =  jnp.dot(Linv, Linv.T)\n",
    "    logging.debug(f\"Output, Kinv: {Kinv.shape}, {Kinv.min():.2f},{Kinv.max():.2f}\")\n",
    "    \n",
    "    logging.debug(f\"Final Variance...\")\n",
    "    logging.debug(f\"Inputs, KxX: {KxX.shape}, {Kinv.shape}, {KxX.shape}\")\n",
    "    var_y -= jnp.einsum(\"ij,ij->i\", jnp.dot(KxX, Kinv), KxX) #jnp.dot(jnp.dot(KxX, Kinv), KxX.T)\n",
    "    logging.debug(f\"Output, var_y: {var_y.shape}, {var_y.min():.2f},{var_y.max():.2f}\")\n",
    "    #jnp.einsum(\"ij, jk, ki->i\", KxX, jnp.dot(Linv, Linv.T), KxX.T)\n",
    "\n",
    "    return mu_y, cov_y, jnp.diag(cov_y)"
   ]
  },
  {
   "cell_type": "code",
   "execution_count": 27,
   "metadata": {},
   "outputs": [
    {
     "data": {
      "text/plain": [
       "{'gamma': 1.770868627016222, 'likelihood_noise': 0.06155753105145977}"
      ]
     },
     "execution_count": 27,
     "metadata": {},
     "output_type": "execute_result"
    }
   ],
   "source": [
    "params"
   ]
  },
  {
   "cell_type": "code",
   "execution_count": 28,
   "metadata": {},
   "outputs": [
    {
     "name": "stderr",
     "output_type": "stream",
     "text": [
      "DEBUG:root:Inputs, X: (30, 1), Y: (30, 1), X*: (400, 1)\n",
      "DEBUG:root:Loaded mean and cov functions\n",
      "DEBUG:root:Getting GP Priors...\n",
      "DEBUG:absl:Compiling rbf_kernel for args (ShapedArray(float32[]), ShapedArray(float32[]), ShapedArray(float32[30,1]), ShapedArray(float32[30,1])).\n"
     ]
    },
    {
     "name": "stdout",
     "output_type": "stream",
     "text": [
      "(30, 1) (30, 1) (400, 1)\n"
     ]
    },
    {
     "name": "stderr",
     "output_type": "stream",
     "text": [
      "DEBUG:root:Output, mu_x: (30,), Kxx: (30, 30)\n",
      "DEBUG:root:Output, Kxx: (30, 30), 0.000838853360619396, 1.0\n",
      "DEBUG:root:Solving Cholesky Factorization...\n",
      "DEBUG:root:Output, L: (30, 30),0.0,1.0303192138671875 \n",
      "DEBUG:absl:Compiling _solve_triangular for args (ShapedArray(float32[30,30]), ShapedArray(float32[30,1])).\n",
      "DEBUG:absl:Compiling _solve_triangular for args (ShapedArray(float32[30,30]), ShapedArray(float32[30,1])).\n",
      "DEBUG:root:Output, L: (30, 30), alpha: (30, 1),-8.470149993896484,10.187272071838379 \n",
      "DEBUG:root:Getting Projection Kernel...\n",
      "DEBUG:root:Input, cov(x*, X): (400, 1),(30, 1)\n",
      "DEBUG:absl:Compiling rbf_kernel for args (ShapedArray(float32[]), ShapedArray(float32[]), ShapedArray(float32[400,1]), ShapedArray(float32[30,1])).\n",
      "DEBUG:root:Output, KxX: (400, 30)\n",
      "DEBUG:root:Getting Predictive Mean Distribution...\n",
      "DEBUG:root:Input, mu(x*): (400, 1), KxX @ alpha: (400, 30) @ (30, 1)\n",
      "DEBUG:root:Output, mu_y: (400, 1)\n",
      "DEBUG:root:Getting Predictive Covariance matrix...\n",
      "DEBUG:root:Input, L @ KxX.T: (30, 30) @ (30, 400)\n",
      "DEBUG:root:Output, v: (30, 400), -0.17,0.75\n",
      "DEBUG:root:Covariance matrix tests...cov(x*, x*)\n",
      "DEBUG:root:Inputs, cov(x*, x*) - (400, 1),(400, 1)\n",
      "DEBUG:absl:Compiling rbf_kernel for args (ShapedArray(float32[]), ShapedArray(float32[]), ShapedArray(float32[400,1]), ShapedArray(float32[400,1])).\n",
      "DEBUG:root:Output, Kxx: (400, 400)\n",
      "DEBUG:root:Calculating final covariance matrix...\n",
      "DEBUG:root:Inputs, Kxx: (400, 400), v:(30, 400)\n",
      "DEBUG:root:Output: cov(x*, x*) - (400, 400)\n",
      "DEBUG:root:Getting Predictive Variance...\n",
      "DEBUG:root:Input, L.T, I: (30, 30), (30, 400)\n",
      "DEBUG:root:Output, Linv: (30, 30), -2.54,3.05\n",
      "DEBUG:root:Covariance matrix tests...cov(x*, x*)\n",
      "DEBUG:root:Inputs, cov(x*, x*) - (400, 1),(400, 1)\n",
      "DEBUG:root:Output, diag(Kxx): (400,), 1.00,1.00\n",
      "DEBUG:root:Inputs, Linv @ Linv.T - (30, 30),(30, 30)\n",
      "DEBUG:root:Output, Kinv: (30, 30), -5.07,13.96\n",
      "DEBUG:root:Final Variance...\n",
      "DEBUG:root:Inputs, KxX: (400, 30), (30, 30), (400, 30)\n",
      "DEBUG:absl:Compiling _einsum for args (ShapedArray(float32[400,30]), ShapedArray(float32[400,30])).\n",
      "DEBUG:root:Output, var_y: (400,), 0.01,0.12\n"
     ]
    },
    {
     "name": "stdout",
     "output_type": "stream",
     "text": [
      "(400, 1) (400, 400) (400,)\n"
     ]
    }
   ],
   "source": [
    "# print(X.shape, y.shape, test_X.shape)\n",
    "logger.setLevel(logging.DEBUG)\n",
    "# x_plot = jnp.linspace(X.min(), X.max(), 1_000)[:, None]\n",
    "print(X.shape, y.shape, Xtest.shape)\n",
    "mu_y, cov_y, var_y = posterior(params, gp_priors, X, y, Xtest, True)\n",
    "\n",
    "print(mu_y.shape, cov_y.shape, var_y.shape)\n",
    "# onp.testing.assert_array_almost_equal(jncov_y, var_y)"
   ]
  },
  {
   "cell_type": "code",
   "execution_count": 29,
   "metadata": {},
   "outputs": [
    {
     "name": "stdout",
     "output_type": "stream",
     "text": [
      "0.07021278 0.18080568 0.05092573 0.18080568\n"
     ]
    },
    {
     "data": {
      "text/plain": [
       "[<matplotlib.lines.Line2D at 0x7f065c01e5b0>]"
      ]
     },
     "execution_count": 29,
     "metadata": {},
     "output_type": "execute_result"
    },
    {
     "data": {
      "image/png": "[encoded data removed]",
      "text/plain": [
       "<Figure size 460.8x316.8 with 1 Axes>"
      ]
     },
     "metadata": {
      "needs_background": "light"
     },
     "output_type": "display_data"
    }
   ],
   "source": [
    "print(var_y.min(), var_y.max(), cov_y.min(), cov_y.max())\n",
    "plt.plot(var_y.squeeze())"
   ]
  },
  {
   "cell_type": "code",
   "execution_count": 30,
   "metadata": {},
   "outputs": [
    {
     "data": {
      "image/png": "[encoded data removed]",
      "text/plain": [
       "<Figure size 460.8x316.8 with 1 Axes>"
      ]
     },
     "metadata": {
      "needs_background": "light"
     },
     "output_type": "display_data"
    }
   ],
   "source": [
    "uncertainty = 1.96 * jnp.sqrt(var_y.squeeze())\n",
    "\n",
    "\n",
    "fig, ax = plt.subplots()\n",
    "ax.scatter(X, y, c='red')\n",
    "plt.plot(Xtest.squeeze(), mu_y.squeeze(), label='Mean')\n",
    "plt.fill_between(Xtest.squeeze(), mu_y.squeeze() + uncertainty, mu_y.squeeze() - uncertainty, alpha=0.1)\n",
    "plt.show()"
   ]
  },
  {
   "cell_type": "code",
   "execution_count": null,
   "metadata": {},
   "outputs": [],
   "source": []
  }
 ],
 "metadata": {
  "kernelspec": {
   "display_name": "Python [conda env:.conda-jax_py38]",
   "language": "python",
   "name": "conda-env-.conda-jax_py38-py"
  },
  "language_info": {
   "codemirror_mode": {
    "name": "ipython",
    "version": 3
   },
   "file_extension": ".py",
   "mimetype": "text/x-python",
   "name": "python",
   "nbconvert_exporter": "python",
   "pygments_lexer": "ipython3",
   "version": "3.8.2"
  }
 },
 "nbformat": 4,
 "nbformat_minor": 4
}
