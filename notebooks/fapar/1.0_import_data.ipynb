{
 "cells": [
  {
   "cell_type": "code",
   "execution_count": 2,
   "metadata": {},
   "outputs": [],
   "source": [
    "import geopandas as gpd\n",
    "import \n",
    "import pathlib"
   ]
  },
  {
   "cell_type": "code",
   "execution_count": 4,
   "metadata": {},
   "outputs": [
    {
     "name": "stdout",
     "output_type": "stream",
     "text": [
      "trainingdataRegressionaddedpredictionerror.csv\n",
      "trainingdataRegression.csv\n",
      "trainingdataRegressionMoreDATA.csv\n",
      "trainingdataRegressionMuchmoreDATA.csv\n",
      "training.mat\n",
      "trainingMOD15.txt\n",
      "trainingmuchmoredataaddedpredError1.csv\n",
      "trainingmuchmoredataaddedpredError2.csv\n",
      "trainingmuchmoredataaddedpredError.mat\n",
      "trainingmuchmoredata.mat\n"
     ]
    }
   ],
   "source": [
    "!ls $PATH"
   ]
  },
  {
   "cell_type": "code",
   "execution_count": 28,
   "metadata": {},
   "outputs": [],
   "source": [
    "PATH = pathlib.Path(\"/media/disk/erc/papers/2020_LAI_FAPAR_errorPropagarion_IGARSS/Data\")\n",
    "DATA = PATH.joinpath(\"trainingdataRegressionMoreDATA.csv\")"
   ]
  },
  {
   "cell_type": "code",
   "execution_count": 30,
   "metadata": {},
   "outputs": [],
   "source": [
    "gpd_df = gpd.read_file(DATA)\n",
    "index = ['latitude', 'longitude', 'Land_Cover_Type_1']\n",
    "variables = ['Fpar', 'Lai']\n",
    "std_variables = ['Fpar_stdDev', 'Lai_stdDev']\n",
    "for ivariable in variables:\n",
    "    gpd_df[ivariable] = pd.to_numeric(gpd_df[ivariable])\n"
   ]
  },
  {
   "cell_type": "code",
   "execution_count": 13,
   "metadata": {},
   "outputs": [
    {
     "data": {
      "text/plain": [
       "['system:index',\n",
       " 'B1_post',\n",
       " 'B2_post',\n",
       " 'B3_post',\n",
       " 'B4_post',\n",
       " 'B5_post',\n",
       " 'B7_post',\n",
       " 'Fpar',\n",
       " 'Fpar_stdDev',\n",
       " 'Lai',\n",
       " 'Lai_stdDev',\n",
       " 'Land_Cover_Type_1',\n",
       " 'latitude',\n",
       " 'longitude',\n",
       " 'month',\n",
       " '.geo',\n",
       " 'geometry']"
      ]
     },
     "execution_count": 13,
     "metadata": {},
     "output_type": "execute_result"
    }
   ],
   "source": [
    "gpd_df.columns().tolist()"
   ]
  },
  {
   "cell_type": "code",
   "execution_count": 31,
   "metadata": {},
   "outputs": [
    {
     "data": {
      "text/plain": [
       "(array([ 2.,  3., nan, ..., 17.,  3.,  2.]),\n",
       " 0         9\n",
       " 1         0\n",
       " 2          \n",
       " 3         0\n",
       " 4         0\n",
       "          ..\n",
       " 11995    10\n",
       " 11996      \n",
       " 11997    10\n",
       " 11998     5\n",
       " 11999     7\n",
       " Name: Fpar_stdDev, Length: 12000, dtype: object)"
      ]
     },
     "execution_count": 31,
     "metadata": {},
     "output_type": "execute_result"
    }
   ],
   "source": [
    "gpd_df['Lai'].values, gpd_df['Fpar_stdDev']"
   ]
  },
  {
   "cell_type": "code",
   "execution_count": 32,
   "metadata": {},
   "outputs": [
    {
     "data": {
      "text/plain": [
       "<matplotlib.axes._subplots.AxesSubplot at 0x7f15288459a0>"
      ]
     },
     "execution_count": 32,
     "metadata": {},
     "output_type": "execute_result"
    },
    {
     "data": {
      "image/png": "[encoded data removed]",
      "text/plain": [
       "<Figure size 432x288 with 1 Axes>"
      ]
     },
     "metadata": {
      "needs_background": "light"
     },
     "output_type": "display_data"
    }
   ],
   "source": [
    "gpd_df['Lai'].plot()"
   ]
  },
  {
   "cell_type": "code",
   "execution_count": null,
   "metadata": {},
   "outputs": [],
   "source": []
  }
 ],
 "metadata": {
  "kernelspec": {
   "display_name": "Python [conda env:.conda-rbig_eo_dev]",
   "language": "python",
   "name": "conda-env-.conda-rbig_eo_dev-py"
  },
  "language_info": {
   "codemirror_mode": {
    "name": "ipython",
    "version": 3
   },
   "file_extension": ".py",
   "mimetype": "text/x-python",
   "name": "python",
   "nbconvert_exporter": "python",
   "pygments_lexer": "ipython3",
   "version": "3.8.2"
  }
 },
 "nbformat": 4,
 "nbformat_minor": 4
}
